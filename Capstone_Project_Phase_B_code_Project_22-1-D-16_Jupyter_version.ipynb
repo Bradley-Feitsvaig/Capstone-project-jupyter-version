{
 "cells": [
  {
   "cell_type": "code",
   "execution_count": 1,
   "id": "c2f23bb5",
   "metadata": {},
   "outputs": [],
   "source": [
    "import csv\n",
    "import pandas as pd\n",
    "import numpy as np\n",
    "import tensorflow as tf\n",
    "import tensorflow_hub as hub\n",
    "import tensorflow_text as text\n",
    "import re\n",
    "from tensorflow.keras.preprocessing.text import Tokenizer\n",
    "from tensorflow.keras.optimizers import Adam\n",
    "import keras\n",
    "import matplotlib.pyplot as plt\n",
    "import os\n",
    "from sklearn.model_selection import train_test_split\n",
    "from sklearn.decomposition import PCA\n",
    "from nltk.corpus import stopwords\n",
    "from nltk.tokenize import word_tokenize\n",
    "from sklearn.manifold import TSNE"
   ]
  },
  {
   "cell_type": "markdown",
   "id": "2e204b35",
   "metadata": {},
   "source": [
    "Load smaller_LaBSE_15lang.\n",
    "\n",
    "The smaller LaBSE(language-agnostic BERT sentence embedding) is a patched version of google/LaBSE/2 to handle fewer languages.\n",
    "\n",
    "Support: Arabic, Chinese, English, French, German, Italian, Japanese, Korean, Dutch, Polish, Portuguese, Spanish, Thai, Turkish, Russian.\n",
    "\n",
    "Load preprocess and encoder.\n",
    "\n",
    "https://tfhub.dev/jeongukjae/smaller_LaBSE_15lang/1"
   ]
  },
  {
   "cell_type": "code",
   "execution_count": 2,
   "id": "c1947680",
   "metadata": {},
   "outputs": [],
   "source": [
    "#Load if the files are saved on the computer\n",
    "# LaBSE_preprocess=hub.KerasLayer(\"15lang_preprocess\")\n",
    "# LaBSE_encoder=hub.KerasLayer(\"LaBSE_15\")\n",
    "\n",
    "# Loading models from tfhub.dev\n",
    "LaBSE_encoder = hub.KerasLayer(\"https://tfhub.dev/jeongukjae/smaller_LaBSE_15lang/1\")\n",
    "LaBSE_preprocess = hub.KerasLayer(\"https://tfhub.dev/jeongukjae/smaller_LaBSE_15lang_preprocess/1\")"
   ]
  },
  {
   "cell_type": "markdown",
   "id": "d9611e45",
   "metadata": {},
   "source": [
    "# Functions part."
   ]
  },
  {
   "cell_type": "markdown",
   "id": "599cfa61",
   "metadata": {},
   "source": [
    "# Divide the text into sequences and the next words.\n",
    "\n",
    "Example:\n",
    "\n",
    "    sentence = 'the boy who lived'.\n",
    "    \n",
    "    sequence=['the boy who'], next word='lived'."
   ]
  },
  {
   "cell_type": "code",
   "execution_count": 3,
   "id": "7636d0dc",
   "metadata": {},
   "outputs": [],
   "source": [
    "def Divide_text_file_into_sequences_and_next_words(file_path,language,number_of_samples):\n",
    "    \n",
    "    #Dictionary of regular expression for wanted language.\n",
    "    #This dictionary is the only part of the code that needs editing in case of \n",
    "    #working with another language (which is supported by smaller_LaBSE_15lang)\n",
    "    regex_for_language = {\n",
    "        \"english\": \"[^a-zA-Z .]\",\n",
    "        \"russian\": \"[^А-я .]\"\n",
    "    }\n",
    "    data = pd.read_fwf(file_path, sep=\" \", header=None,dtype=\"string\",widths=[100])\n",
    "    data=data[0]\n",
    "    data = data.sample(n = min([len(data),number_of_samples]))\n",
    "    data.replace(regex_for_language[language],'',regex=True, inplace = True)\n",
    "    data.replace(' +',' ',regex=True, inplace = True)\n",
    "    data = data.str.lower()\n",
    "    stop_words = set(stopwords.words(language))\n",
    "    data = data.apply(lambda x: ' '.join([word for word in x.split() if word not in (stop_words)])) # remove stop words\n",
    "    text = \"\"\n",
    "    for line in data:\n",
    "        text+=line\n",
    "    sentences=text.split('.')\n",
    "    sentences=[x for x in sentences if x]\n",
    "    sequences=[]\n",
    "    temp_labels=[]\n",
    "    for sentence in sentences:\n",
    "        sentence=sentence.strip()\n",
    "        temp_sentence=sentence.split(\" \")\n",
    "        for i in range(len(temp_sentence)):\n",
    "            s = [' '.join(temp_sentence[0:i+1])]\n",
    "            sequences.append(s)\n",
    "            temp_labels.append(temp_sentence[i])\n",
    "    temp_labels.pop(0)#Shift left the temp labels list (temp_labels is a list with the next word for each sequence in the text)\n",
    "    sequences.pop(-1)#delete the last sequences (there is no next word for it)\n",
    "    sequences=[x for x in sequences if x!=['']]\n",
    "    temp_labels=[x for x in temp_labels if x!='']\n",
    "    return sequences,temp_labels,sentences"
   ]
  },
  {
   "cell_type": "markdown",
   "id": "442cbf1d",
   "metadata": {},
   "source": [
    "# Build data set for sentimental analysis\n",
    "\n",
    "Build vector for each label in the sentimental analysis dataset \n",
    "\n",
    "vectors: [1,0,0] = negative ,[0,1,0] = neutral ,[0,0,1] = positive"
   ]
  },
  {
   "cell_type": "code",
   "execution_count": 4,
   "id": "b90d1175",
   "metadata": {},
   "outputs": [],
   "source": [
    "def build_data_set_for_sentimental_analysis(file_path,language,text_column_name,sentiment_column_name):\n",
    "    sentiment_dict = {\n",
    "                    \"neutral\": 1,\n",
    "                    \"negative\": 0,\n",
    "                    \"positive\": 2\n",
    "                    }\n",
    "    regex_for_language = {\n",
    "                    \"english\": \"[^a-zA-Z .]\",\n",
    "                    \"russian\": \"[^А-я .]\"\n",
    "                    } \n",
    "    df=pd.read_csv(file_path,dtype=\"string\")\n",
    "    df = df.sample(n = min([len(df),8000])) \n",
    "    stop_words = set(stopwords.words(language))\n",
    "    df[text_column_name].replace(regex_for_language[language],'',regex=True, inplace = True)\n",
    "    df[text_column_name].replace(' +',' ',regex=True, inplace = True)\n",
    "    df[text_column_name] = df[text_column_name].str.lower()\n",
    "    stop_words = set(stopwords.words(language))\n",
    "    df[text_column_name] = df[text_column_name].apply(lambda x: ' '.join([word for word in x.split() if word not in (stop_words)]))\n",
    "    sentiment_labels = []\n",
    "    for sentiment in df[sentiment_column_name]:\n",
    "        if sentiment not in sentiment_dict.keys():\n",
    "            continue\n",
    "        sentiment_label = [0,0,0]\n",
    "        sentiment_label[sentiment_dict[sentiment]] = 1\n",
    "        sentiment_labels.append(sentiment_label)\n",
    "    sentiment_sentences = df[text_column_name].values.tolist()\n",
    "    return sentiment_sentences,sentiment_labels"
   ]
  },
  {
   "cell_type": "markdown",
   "id": "0a9a47f4",
   "metadata": {},
   "source": [
    "# Text tokenization using keras Tokenizer."
   ]
  },
  {
   "cell_type": "code",
   "execution_count": 5,
   "id": "42fd3183",
   "metadata": {},
   "outputs": [],
   "source": [
    "def tokenization(sentences):\n",
    "    tokenizer = Tokenizer()\n",
    "    tokenizer.fit_on_texts(sentences) #After the Tokenizer has been created, we then fit it on the data.\n",
    "    word_index = tokenizer.word_index #word index maps words in our vocabulary to their numeric representation.\n",
    "    total_unique_words = len(word_index) + 1 #number of words in vocabulary\n",
    "    return word_index,total_unique_words"
   ]
  },
  {
   "cell_type": "markdown",
   "id": "7ea90b0c",
   "metadata": {},
   "source": [
    "# Create vector for each label.\n",
    "\n",
    "(label is the next word for each sequence)"
   ]
  },
  {
   "cell_type": "code",
   "execution_count": 6,
   "id": "46e71388",
   "metadata": {},
   "outputs": [],
   "source": [
    "def vectors_for_labels(word_index,total_unique_words,temp_labels):\n",
    "    labels=[]\n",
    "    for i in range(len(temp_labels)):\n",
    "        lst=[0]*total_unique_words\n",
    "        lst[word_index[temp_labels[i]]]=1\n",
    "        labels.append(lst)\n",
    "    return labels"
   ]
  },
  {
   "cell_type": "markdown",
   "id": "1b37feb4",
   "metadata": {},
   "source": [
    "# Build dataset for Predicting the next word."
   ]
  },
  {
   "cell_type": "code",
   "execution_count": 7,
   "id": "661883ab",
   "metadata": {},
   "outputs": [],
   "source": [
    "def build_dataset_for_predicting_the_next_word(file_path,language,optional_file_path=None,number_of_samples=8000):\n",
    "    if optional_file_path:\n",
    "        samples = number_of_samples//2;\n",
    "    else:\n",
    "        samples = number_of_samples\n",
    "    sequences,temp_labels,sentences = Divide_text_file_into_sequences_and_next_words(file_path,language,samples)\n",
    "    if optional_file_path:\n",
    "        optional_sequences,optional_temp_labels,optional_sentences = Divide_text_file_into_sequences_and_next_words(optional_file_path,language,samples)\n",
    "        word_index,total_unique_words = tokenization(sentences+optional_sentences)\n",
    "        optional_labels = vectors_for_labels(word_index,total_unique_words,optional_temp_labels)\n",
    "        labels = vectors_for_labels(word_index,total_unique_words,temp_labels)\n",
    "        return sequences, labels, total_unique_words,optional_sequences,optional_labels\n",
    "    else:\n",
    "        word_index,total_unique_words = tokenization(sentences)\n",
    "        labels = vectors_for_labels(word_index,total_unique_words,temp_labels)\n",
    "        return sequences, labels, total_unique_words"
   ]
  },
  {
   "cell_type": "markdown",
   "id": "57215d2b",
   "metadata": {},
   "source": [
    "# Plot creation method for the training process."
   ]
  },
  {
   "cell_type": "code",
   "execution_count": 8,
   "id": "b9eb9e38",
   "metadata": {},
   "outputs": [],
   "source": [
    "def get_loss_plot(history):\n",
    "    loss_train = history.history['loss']\n",
    "    plt.plot(loss_train, 'r', label='Training loss')\n",
    "    plt.title('loss')\n",
    "    plt.xlabel('Epochs')\n",
    "    plt.ylabel('Loss')\n",
    "    plt.legend()\n",
    "    return plt\n",
    "def get_accuracy_plot(history):\n",
    "    loss_train = history.history['accuracy']\n",
    "    plt.plot(loss_train, 'g', label='Training accuracy')\n",
    "    plt.title('accuracy')\n",
    "    plt.xlabel('Epochs')\n",
    "    plt.ylabel('Accuracy')\n",
    "    plt.legend()\n",
    "    return plt"
   ]
  },
  {
   "cell_type": "markdown",
   "id": "3e6e274c",
   "metadata": {},
   "source": [
    "# Scatter plot creation method for the predictions visualization."
   ]
  },
  {
   "cell_type": "code",
   "execution_count": 9,
   "id": "f241e6d8",
   "metadata": {},
   "outputs": [],
   "source": [
    "def get_scatter_plot(train_predictions,test_predictions):\n",
    "    t_sne = TSNE(n_components=2) #Linear dimensionality reduction\n",
    "    \n",
    "    X_embedded= t_sne.fit_transform(train_predictions)\n",
    "    t = X_embedded.transpose()\n",
    "    plt.scatter(t[0], t[1],color='red',alpha=0.5,label='First book (train predictions)')\n",
    "\n",
    "    t_sne = TSNE(n_components=2)\n",
    "    X_embedded= t_sne.fit_transform(test_predictions)\n",
    "    t = X_embedded.transpose()\n",
    "    plt.scatter(t[0], t[1],color='blue',alpha=0.5,label='Second book (test predictions)')\n",
    "    \n",
    "    plt.legend()\n",
    "    return plt"
   ]
  },
  {
   "cell_type": "markdown",
   "id": "0c154dbc",
   "metadata": {},
   "source": [
    "# Build language model."
   ]
  },
  {
   "cell_type": "code",
   "execution_count": 10,
   "id": "d6287056",
   "metadata": {},
   "outputs": [],
   "source": [
    "def build_model(intermediate_layer,output_vector_size,dropout_value=0.4,activation_function_for_output_layer='softmax',learning_rate=0.0001,\n",
    "               loss_function='categorical_crossentropy'):\n",
    "    \n",
    "    #Dictionarie for the wanted intermediate_layer, 768 is the hidden size of LaBSE's sequence_output.\n",
    "    intermediate_layers = {\n",
    "        \"gru\": tf.keras.layers.GRU(768),\n",
    "        \"lstm\": tf.keras.layers.LSTM(768)\n",
    "    }\n",
    "    \n",
    "    \n",
    "    text_input=tf.keras.layers.Input(shape=(),dtype=tf.string,name=\"input_layer\")\n",
    "    LaBSE_preprocessed_text=LaBSE_preprocess(text_input)\n",
    "    LaBSE_encoder_output=LaBSE_encoder(LaBSE_preprocessed_text)\n",
    "    \n",
    "    #\"sequence_output\": representations of every token in the input sequence with \n",
    "    #shape [batch size, max sequence length, hidden size(768)].\n",
    "    l=intermediate_layers[intermediate_layer](LaBSE_encoder_output['sequence_output'])\n",
    "    l=tf.keras.layers.BatchNormalization()(l)\n",
    "    l=tf.keras.layers.Dropout(dropout_value,name='dropout')(l)\n",
    "    l=tf.keras.layers.Dense(output_vector_size,activation=activation_function_for_output_layer,name='output')(l)\n",
    "\n",
    "    model=tf.keras.Model(inputs=[text_input],outputs=[l])\n",
    "\n",
    "    model.compile(optimizer=Adam(learning_rate=learning_rate), loss=loss_function, metrics=['accuracy'])\n",
    "    model.summary() \n",
    "    return model"
   ]
  },
  {
   "cell_type": "markdown",
   "id": "8b9e52b9",
   "metadata": {},
   "source": [
    "# Target  Task  Language  Model  Fine  Tuning.\n",
    "\n",
    "This method is the second step of the ULMFiT algorithm.\n",
    "\n",
    "The  purpose  of  the  second  stage  is  to  fine tune the model on a dataset that is related to the target task."
   ]
  },
  {
   "cell_type": "code",
   "execution_count": 11,
   "id": "46108289",
   "metadata": {},
   "outputs": [],
   "source": [
    "def target_task_language_model_fine_tuning(model_dir_name,intermediate_layer,total_unique_words,\n",
    "                                           sequences_train,lables_train,needed_epochs):\n",
    "    train_history = None\n",
    "    if os.path.isdir(model_dir_name):# Checks if tuned model is exist.\n",
    "        model = keras.models.load_model(model_dir_name)  # If yes,load weights of the tuned model.\n",
    "    else:#Else, tuned the model.\n",
    "        model = build_model(intermediate_layer,total_unique_words)\n",
    "        train_history = model.fit(sequences_train, lables_train, epochs=needed_epochs)\n",
    "        model.save(model_dir_name)  # Saves the weights of the tuned model for future use.\n",
    "    return model,train_history"
   ]
  },
  {
   "cell_type": "markdown",
   "id": "feb2a5b8",
   "metadata": {},
   "source": [
    "# Adjust the language model according to the targeted task.\n",
    "\n",
    "This method is adjusting the model architecture according to the targeted task.\n",
    "\n",
    "At this stage, the model is predicting the next word in a sequence in the context of the data of the target task. \n",
    "\n",
    "Afterward, in preparation for the third stage of the ULMFiT algorithm, the  model  must  be  adjusted  according to the targeted task.\n",
    "\n",
    "First the SoftMax layers are cut off, then Two linear blocks are added at the end of the model. Each block uses dropout and batch normalozation, with ReLU activation function for the first linear layer and a SoftMax activation that outputs a probability distribution over target classes at the last layer.\n"
   ]
  },
  {
   "cell_type": "code",
   "execution_count": 12,
   "id": "b3ad0482",
   "metadata": {},
   "outputs": [],
   "source": [
    "def adjust_model_architecture_for_traget_task(model,new_layers,model_dir_name,dropout_value = 0.4,learning_rate=0.0001,loss_function='categorical_crossentropy'):\n",
    "    is_model_loaded = False\n",
    "    if os.path.isdir(model_dir_name):# Checks if tuned model is exist.\n",
    "        adjusted_model = keras.models.load_model(model_dir_name)  # If yes,load weights of the tuned model.\n",
    "        is_model_loTrue\n",
    "    else:#Else, tuned the model.\n",
    "        last_layer = model.layers[3].output\n",
    "        for layer in new_layers:\n",
    "            last_layer = tf.keras.layers.BatchNormalization()(last_layer)\n",
    "            last_layer = tf.keras.layers.Dropout(dropout_value)(last_layer)\n",
    "            last_layer = (layer)(last_layer)\n",
    "        adjusted_model=tf.keras.Model(inputs=[model.layers[0].input],outputs=[last_layer])\n",
    "        adjusted_model.compile(optimizer=Adam(learning_rate=learning_rate), loss=loss_function, metrics=['accuracy'])\n",
    "    adjusted_model.summary()\n",
    "    return adjusted_model,is_model_loaded\n"
   ]
  },
  {
   "cell_type": "markdown",
   "id": "2d4b4575",
   "metadata": {},
   "source": [
    "# Language model fine tuning on the target task.\n",
    "\n",
    "This method is the third step of the ULMFiT algorithm. \n",
    "\n",
    "The model is frozen and then it is gradually unfrozen to fine tune it."
   ]
  },
  {
   "cell_type": "code",
   "execution_count": 13,
   "id": "58bd9359",
   "metadata": {},
   "outputs": [],
   "source": [
    "def target_task_classifier_fine_tuning(adjusted_model,x_train,y_train,x_val,y_val,needed_epochs):\n",
    "    adjusted_model.layers[3].trainable = False # freeze the intermidate layer (LSTM or GRU) to avoid catastrophic forgetting\n",
    "    adjusted_model.layers[4].trainable = False # freeze the first linear block to avoid catastrophic forgetting\n",
    "    adjusted_model.fit(x_train, y_train, epochs=5) #fine-tuned\n",
    "    adjusted_model.layers[4].trainable = True # first linear block layer is unfrozen \n",
    "    adjusted_model.fit(x_train, y_train, epochs=5)  #fine-tuned\n",
    "    adjusted_model.layers[3].trainable = True # Intermidate layer (LSTM or GRU) is unfrozen\n",
    "    fine_tuning_history = adjusted_model.fit(x_train, y_train, epochs=needed_epochs,validation_data=(x_val, y_val))  #fine-tuned\n",
    "    return fine_tuning_history\n",
    "\n",
    "    "
   ]
  },
  {
   "cell_type": "markdown",
   "id": "a48331d8",
   "metadata": {},
   "source": [
    "# Get sentiment analysis prediction."
   ]
  },
  {
   "cell_type": "code",
   "execution_count": 14,
   "id": "61561d93",
   "metadata": {},
   "outputs": [],
   "source": [
    "def get_sentiment_analysis_prediction(prediction_vector):\n",
    "    sentiment_dict = {\n",
    "                    1: \"neutral\",\n",
    "                    0: \"negative\",\n",
    "                    2: \"positive\"\n",
    "                    }\n",
    "    max_value = max(prediction_vector)\n",
    "    max_index = prediction_vector.index(max_value)\n",
    "    return sentiment_dict[max_index]"
   ]
  },
  {
   "cell_type": "markdown",
   "id": "dc728c9e",
   "metadata": {},
   "source": [
    "# experiments part.\n",
    "\n",
    "After all the functions necessary for the experiment are written, in the next section of the code, several tasks will be performed for the reserch of the ULMFiT algorithm.\n",
    "\n",
    "**For research purposes, An experiment with 2 different intermediate layers will be performed - GRU and LSTM.\n",
    "\n",
    "1.Full execution of the ULMFiT algorithm in english language, for Twitter US Airline Sentiment dataset\n",
    ":\n",
    "\n",
    "    A)The target task language model is fine-tuning on wikitext-2-raw-v1. The WikiText language modeling dataset is a collection of over 100 million tokens extracted from the set of verified Good and Featured articles on Wikipedia. In the end of this stage, the model is predicting the next word in a sequence for English language.\n",
    "        \n",
    "    B)Target  Task  Classifire fine tuning - After  the  second  stage,  the  model  must  be  adjusted  according to the targeted task, then it is fine-tuning with Twitter US Airline Sentiment dataset.\n",
    "    \n",
    "2.Execution of the ULMFiT algorithm in russian language, the task is to identify whether the tested book was written by the author mikhail sholokhov :\n",
    "\n",
    "Ever since the end of the 1920s there have been rumours that Sholokhov was not the only, or even the main, author of Тихий Дон book. In this part of the code, we will try to get an answer.\n",
    "\n",
    "    A)The target task language model is fine-tuning on Тихий Дон book 1 (And Quiet Flows the Don 1 - russian-language book by the author mikhail sholokhov). In the end of this stage, the model is predicting the next word in a sequence in the context of the Тихий Дон book.\n",
    "    B)The test is performed on Тихий Дон book 2 (And Quiet Flows the Don 2 russian-language book by the author mikhail sholokhov).\n"
   ]
  },
  {
   "cell_type": "markdown",
   "id": "c7e73bfd",
   "metadata": {},
   "source": [
    "# 1.English language  model."
   ]
  },
  {
   "cell_type": "markdown",
   "id": "c544d72a",
   "metadata": {},
   "source": [
    "# Build train and test datasets for english tasks."
   ]
  },
  {
   "cell_type": "code",
   "execution_count": 15,
   "id": "177adba1",
   "metadata": {},
   "outputs": [],
   "source": [
    "sequences,lables,total_unique_words = build_dataset_for_predicting_the_next_word(\"wikitext-2-raw-v1.txt\",\"english\")\n",
    "sentiment_sentences,sentiment_labels=build_data_set_for_sentimental_analysis(\"Twitter US Airline Sentiment dataset.csv\",\"english\",\"text\",\"airline_sentiment\")\n",
    "x_train,x_test,y_train,y_test=train_test_split(sentiment_sentences,sentiment_labels,test_size=0.2, shuffle=True)"
   ]
  },
  {
   "cell_type": "markdown",
   "id": "b6ec8848",
   "metadata": {},
   "source": [
    "# NLP task - sentimental analysis for Twitter US Airline.\n",
    "\n",
    "# LSTM intermediate layer\n",
    "\n",
    "language: english.\n",
    "\n",
    "1.General domain language model pretraining - in this code,smaller_LaBSE_15lang is used as embedding layer in the language model, smaller_LaBSE_15lang is already pretrained on 15 language including English.\n",
    "\n",
    "\n",
    "2.Target task language model fine tuning - Tuned the model to predict the next word in the sequence.\n",
    "\n",
    "3.Target task classifier - the model is adjusted  according to the targeted task, then it is fine-tuning with sentimental analysis dataset.\n",
    "\n",
    "Text data: wikitext-2-raw-v1.txt.\n",
    "\n",
    "sentimental analysis dataset: Twitter US Airline Sentiment dataset.\n"
   ]
  },
  {
   "cell_type": "code",
   "execution_count": 16,
   "id": "c4bdc481",
   "metadata": {
    "scrolled": false
   },
   "outputs": [
    {
     "name": "stdout",
     "output_type": "stream",
     "text": [
      "Target task language model fine tuning:\n",
      "Model: \"model\"\n",
      "__________________________________________________________________________________________________\n",
      " Layer (type)                   Output Shape         Param #     Connected to                     \n",
      "==================================================================================================\n",
      " input_layer (InputLayer)       [(None,)]            0           []                               \n",
      "                                                                                                  \n",
      " keras_layer (KerasLayer)       {'input_mask': (Non  0           ['input_layer[0][0]']            \n",
      "                                e, 128),                                                          \n",
      "                                 'input_word_ids':                                                \n",
      "                                (None, 128),                                                      \n",
      "                                 'input_type_ids':                                                \n",
      "                                (None, 128)}                                                      \n",
      "                                                                                                  \n",
      " keras_layer_1 (KerasLayer)     {'pooled_output': (  219171840   ['keras_layer[0][0]',            \n",
      "                                None, 768),                       'keras_layer[0][1]',            \n",
      "                                 'sequence_output':               'keras_layer[0][2]']            \n",
      "                                 (None, 128, 768),                                                \n",
      "                                 'encoder_outputs':                                               \n",
      "                                 [(None, 128, 768),                                               \n",
      "                                 (None, 128, 768),                                                \n",
      "                                 (None, 128, 768),                                                \n",
      "                                 (None, 128, 768),                                                \n",
      "                                 (None, 128, 768),                                                \n",
      "                                 (None, 128, 768),                                                \n",
      "                                 (None, 128, 768),                                                \n",
      "                                 (None, 128, 768),                                                \n",
      "                                 (None, 128, 768),                                                \n",
      "                                 (None, 128, 768),                                                \n",
      "                                 (None, 128, 768),                                                \n",
      "                                 (None, 128, 768)]}                                               \n",
      "                                                                                                  \n",
      " lstm (LSTM)                    (None, 768)          4721664     ['keras_layer_1[0][13]']         \n",
      "                                                                                                  \n",
      " batch_normalization (BatchNorm  (None, 768)         3072        ['lstm[0][0]']                   \n",
      " alization)                                                                                       \n",
      "                                                                                                  \n",
      " dropout (Dropout)              (None, 768)          0           ['batch_normalization[0][0]']    \n",
      "                                                                                                  \n",
      " output (Dense)                 (None, 19266)        14815554    ['dropout[0][0]']                \n",
      "                                                                                                  \n",
      "==================================================================================================\n",
      "Total params: 238,712,130\n",
      "Trainable params: 19,538,754\n",
      "Non-trainable params: 219,173,376\n",
      "__________________________________________________________________________________________________\n",
      "Epoch 1/100\n",
      "1518/1518 [==============================] - 327s 209ms/step - loss: 9.8375 - accuracy: 0.0017\n",
      "Epoch 2/100\n",
      "1518/1518 [==============================] - 318s 209ms/step - loss: 9.1319 - accuracy: 0.0091\n",
      "Epoch 3/100\n",
      "1518/1518 [==============================] - 318s 210ms/step - loss: 8.4732 - accuracy: 0.0161\n",
      "Epoch 4/100\n",
      "1518/1518 [==============================] - 318s 209ms/step - loss: 7.8159 - accuracy: 0.0242\n",
      "Epoch 5/100\n",
      "1518/1518 [==============================] - 317s 209ms/step - loss: 7.1249 - accuracy: 0.0400\n",
      "Epoch 6/100\n",
      "1518/1518 [==============================] - 318s 209ms/step - loss: 6.4301 - accuracy: 0.0632\n",
      "Epoch 7/100\n",
      "1518/1518 [==============================] - 318s 209ms/step - loss: 5.7703 - accuracy: 0.0945\n",
      "Epoch 8/100\n",
      "1518/1518 [==============================] - 317s 209ms/step - loss: 5.1939 - accuracy: 0.1260\n",
      "Epoch 9/100\n",
      "1518/1518 [==============================] - 318s 209ms/step - loss: 4.7199 - accuracy: 0.1565\n",
      "Epoch 10/100\n",
      "1518/1518 [==============================] - 317s 209ms/step - loss: 4.3437 - accuracy: 0.1810\n",
      "Epoch 11/100\n",
      "1518/1518 [==============================] - 317s 209ms/step - loss: 4.0514 - accuracy: 0.2041\n",
      "Epoch 12/100\n",
      "1518/1518 [==============================] - 318s 210ms/step - loss: 3.8014 - accuracy: 0.2280\n",
      "Epoch 13/100\n",
      "1518/1518 [==============================] - 317s 209ms/step - loss: 3.5964 - accuracy: 0.2444\n",
      "Epoch 14/100\n",
      "1518/1518 [==============================] - 318s 210ms/step - loss: 3.4156 - accuracy: 0.2685\n",
      "Epoch 15/100\n",
      "1518/1518 [==============================] - 318s 209ms/step - loss: 3.2626 - accuracy: 0.2866\n",
      "Epoch 16/100\n",
      "1518/1518 [==============================] - 317s 209ms/step - loss: 3.1193 - accuracy: 0.3051\n",
      "Epoch 17/100\n",
      "1518/1518 [==============================] - 317s 209ms/step - loss: 2.9991 - accuracy: 0.3222\n",
      "Epoch 18/100\n",
      "1518/1518 [==============================] - 319s 210ms/step - loss: 2.8776 - accuracy: 0.3411\n",
      "Epoch 19/100\n",
      "1518/1518 [==============================] - 317s 209ms/step - loss: 2.7734 - accuracy: 0.3549\n",
      "Epoch 20/100\n",
      "1518/1518 [==============================] - 317s 209ms/step - loss: 2.6791 - accuracy: 0.3701\n",
      "Epoch 21/100\n",
      "1518/1518 [==============================] - 318s 209ms/step - loss: 2.5911 - accuracy: 0.3853\n",
      "Epoch 22/100\n",
      "1518/1518 [==============================] - 318s 209ms/step - loss: 2.5078 - accuracy: 0.3996\n",
      "Epoch 23/100\n",
      "1518/1518 [==============================] - 317s 209ms/step - loss: 2.4297 - accuracy: 0.4133\n",
      "Epoch 24/100\n",
      "1518/1518 [==============================] - 317s 209ms/step - loss: 2.3581 - accuracy: 0.4292\n",
      "Epoch 25/100\n",
      "1518/1518 [==============================] - 318s 209ms/step - loss: 2.2975 - accuracy: 0.4380\n",
      "Epoch 26/100\n",
      "1518/1518 [==============================] - 318s 209ms/step - loss: 2.2277 - accuracy: 0.4543\n",
      "Epoch 27/100\n",
      "1518/1518 [==============================] - 321s 211ms/step - loss: 2.1680 - accuracy: 0.4638\n",
      "Epoch 28/100\n",
      "1518/1518 [==============================] - 328s 216ms/step - loss: 2.1047 - accuracy: 0.4788\n",
      "Epoch 29/100\n",
      "1518/1518 [==============================] - 317s 209ms/step - loss: 2.0682 - accuracy: 0.4852\n",
      "Epoch 30/100\n",
      "1518/1518 [==============================] - 318s 210ms/step - loss: 2.0098 - accuracy: 0.4983\n",
      "Epoch 31/100\n",
      "1518/1518 [==============================] - 317s 209ms/step - loss: 1.9712 - accuracy: 0.5083\n",
      "Epoch 32/100\n",
      "1518/1518 [==============================] - 317s 209ms/step - loss: 1.9070 - accuracy: 0.5207\n",
      "Epoch 33/100\n",
      "1518/1518 [==============================] - 317s 209ms/step - loss: 1.8658 - accuracy: 0.5300\n",
      "Epoch 34/100\n",
      "1518/1518 [==============================] - 318s 209ms/step - loss: 1.8153 - accuracy: 0.5410\n",
      "Epoch 35/100\n",
      "1518/1518 [==============================] - 318s 209ms/step - loss: 1.7833 - accuracy: 0.5466\n",
      "Epoch 36/100\n",
      "1518/1518 [==============================] - 317s 209ms/step - loss: 1.7325 - accuracy: 0.5595\n",
      "Epoch 37/100\n",
      "1518/1518 [==============================] - 317s 209ms/step - loss: 1.7012 - accuracy: 0.5642\n",
      "Epoch 38/100\n"
     ]
    },
    {
     "name": "stdout",
     "output_type": "stream",
     "text": [
      "1518/1518 [==============================] - 317s 209ms/step - loss: 1.6728 - accuracy: 0.5726\n",
      "Epoch 39/100\n",
      "1518/1518 [==============================] - 318s 210ms/step - loss: 1.6227 - accuracy: 0.5857\n",
      "Epoch 40/100\n",
      "1518/1518 [==============================] - 317s 209ms/step - loss: 1.5900 - accuracy: 0.5947\n",
      "Epoch 41/100\n",
      "1518/1518 [==============================] - 317s 209ms/step - loss: 1.5484 - accuracy: 0.6019\n",
      "Epoch 42/100\n",
      "1518/1518 [==============================] - 317s 209ms/step - loss: 1.5147 - accuracy: 0.6131\n",
      "Epoch 43/100\n",
      "1518/1518 [==============================] - 319s 210ms/step - loss: 1.4777 - accuracy: 0.6235\n",
      "Epoch 44/100\n",
      "1518/1518 [==============================] - 318s 210ms/step - loss: 1.4466 - accuracy: 0.6316\n",
      "Epoch 45/100\n",
      "1518/1518 [==============================] - 317s 209ms/step - loss: 1.4054 - accuracy: 0.6400\n",
      "Epoch 46/100\n",
      "1518/1518 [==============================] - 317s 209ms/step - loss: 1.3628 - accuracy: 0.6500\n",
      "Epoch 47/100\n",
      "1518/1518 [==============================] - 317s 209ms/step - loss: 1.3287 - accuracy: 0.6581\n",
      "Epoch 48/100\n",
      "1518/1518 [==============================] - 317s 209ms/step - loss: 1.2905 - accuracy: 0.6710\n",
      "Epoch 49/100\n",
      "1518/1518 [==============================] - 317s 209ms/step - loss: 1.2579 - accuracy: 0.6802\n",
      "Epoch 50/100\n",
      "1518/1518 [==============================] - 317s 209ms/step - loss: 1.2223 - accuracy: 0.6855\n",
      "Epoch 51/100\n",
      "1518/1518 [==============================] - 318s 209ms/step - loss: 1.1865 - accuracy: 0.6987\n",
      "Epoch 52/100\n",
      "1518/1518 [==============================] - 318s 209ms/step - loss: 1.1578 - accuracy: 0.7058\n",
      "Epoch 53/100\n",
      "1518/1518 [==============================] - 317s 209ms/step - loss: 1.1171 - accuracy: 0.7158\n",
      "Epoch 54/100\n",
      "1518/1518 [==============================] - 317s 209ms/step - loss: 1.0965 - accuracy: 0.7208\n",
      "Epoch 55/100\n",
      "1518/1518 [==============================] - 318s 209ms/step - loss: 1.0596 - accuracy: 0.7325\n",
      "Epoch 56/100\n",
      "1518/1518 [==============================] - 317s 209ms/step - loss: 1.0290 - accuracy: 0.7401\n",
      "Epoch 57/100\n",
      "1518/1518 [==============================] - 317s 209ms/step - loss: 0.9984 - accuracy: 0.7499\n",
      "Epoch 58/100\n",
      "1518/1518 [==============================] - 317s 209ms/step - loss: 0.9582 - accuracy: 0.7613\n",
      "Epoch 59/100\n",
      "1518/1518 [==============================] - 317s 209ms/step - loss: 0.9327 - accuracy: 0.7677\n",
      "Epoch 60/100\n",
      "1518/1518 [==============================] - 317s 209ms/step - loss: 0.9081 - accuracy: 0.7735\n",
      "Epoch 61/100\n",
      "1518/1518 [==============================] - 316s 208ms/step - loss: 0.8810 - accuracy: 0.7856\n",
      "Epoch 62/100\n",
      "1518/1518 [==============================] - 317s 209ms/step - loss: 0.8677 - accuracy: 0.7882\n",
      "Epoch 63/100\n",
      "1518/1518 [==============================] - 318s 209ms/step - loss: 0.8315 - accuracy: 0.7974\n",
      "Epoch 64/100\n",
      "1518/1518 [==============================] - 317s 209ms/step - loss: 0.8082 - accuracy: 0.8014\n",
      "Epoch 65/100\n",
      "1518/1518 [==============================] - 317s 209ms/step - loss: 0.7910 - accuracy: 0.8085\n",
      "Epoch 66/100\n",
      "1518/1518 [==============================] - 317s 209ms/step - loss: 0.7730 - accuracy: 0.8151\n",
      "Epoch 67/100\n",
      "1518/1518 [==============================] - 317s 209ms/step - loss: 0.7473 - accuracy: 0.8215\n",
      "Epoch 68/100\n",
      "1518/1518 [==============================] - 317s 209ms/step - loss: 0.7287 - accuracy: 0.8274\n",
      "Epoch 69/100\n",
      "1518/1518 [==============================] - 317s 209ms/step - loss: 0.7150 - accuracy: 0.8316\n",
      "Epoch 70/100\n",
      "1518/1518 [==============================] - 317s 209ms/step - loss: 0.6950 - accuracy: 0.8364\n",
      "Epoch 71/100\n",
      "1518/1518 [==============================] - 317s 209ms/step - loss: 0.6822 - accuracy: 0.8390\n",
      "Epoch 72/100\n",
      "1518/1518 [==============================] - 317s 209ms/step - loss: 0.6702 - accuracy: 0.8435\n",
      "Epoch 73/100\n",
      "1518/1518 [==============================] - 317s 209ms/step - loss: 0.6460 - accuracy: 0.8495\n",
      "Epoch 74/100\n",
      "1518/1518 [==============================] - 317s 209ms/step - loss: 0.6445 - accuracy: 0.8514\n",
      "Epoch 75/100\n",
      "1518/1518 [==============================] - 317s 209ms/step - loss: 0.6267 - accuracy: 0.8559\n",
      "Epoch 76/100\n",
      "1518/1518 [==============================] - 318s 209ms/step - loss: 0.6128 - accuracy: 0.8609\n",
      "Epoch 77/100\n",
      "1518/1518 [==============================] - 317s 209ms/step - loss: 0.6058 - accuracy: 0.8630\n",
      "Epoch 78/100\n",
      "1518/1518 [==============================] - 316s 208ms/step - loss: 0.5932 - accuracy: 0.8669\n",
      "Epoch 79/100\n",
      "1518/1518 [==============================] - 317s 209ms/step - loss: 0.5767 - accuracy: 0.8719\n",
      "Epoch 80/100\n",
      "1518/1518 [==============================] - 318s 209ms/step - loss: 0.5807 - accuracy: 0.8702\n",
      "Epoch 81/100\n",
      "1518/1518 [==============================] - 317s 209ms/step - loss: 0.5732 - accuracy: 0.8737\n",
      "Epoch 82/100\n",
      "1518/1518 [==============================] - 317s 209ms/step - loss: 0.5464 - accuracy: 0.8806\n",
      "Epoch 83/100\n",
      "1518/1518 [==============================] - 318s 210ms/step - loss: 0.5529 - accuracy: 0.8787\n",
      "Epoch 84/100\n",
      "1518/1518 [==============================] - 317s 209ms/step - loss: 0.5492 - accuracy: 0.8786\n",
      "Epoch 85/100\n",
      "1518/1518 [==============================] - 317s 209ms/step - loss: 0.5304 - accuracy: 0.8863\n",
      "Epoch 86/100\n",
      "1518/1518 [==============================] - 318s 209ms/step - loss: 0.5241 - accuracy: 0.8872\n",
      "Epoch 87/100\n",
      "1518/1518 [==============================] - 317s 209ms/step - loss: 0.5187 - accuracy: 0.8869\n",
      "Epoch 88/100\n",
      "1518/1518 [==============================] - 317s 209ms/step - loss: 0.5149 - accuracy: 0.8897\n",
      "Epoch 89/100\n",
      "1518/1518 [==============================] - 317s 209ms/step - loss: 0.5073 - accuracy: 0.8923\n",
      "Epoch 90/100\n",
      "1518/1518 [==============================] - 317s 209ms/step - loss: 0.5009 - accuracy: 0.8929\n",
      "Epoch 91/100\n",
      "1518/1518 [==============================] - 317s 209ms/step - loss: 0.4997 - accuracy: 0.8935\n",
      "Epoch 92/100\n",
      "1518/1518 [==============================] - 317s 209ms/step - loss: 0.4877 - accuracy: 0.8964\n",
      "Epoch 93/100\n",
      "1518/1518 [==============================] - 317s 209ms/step - loss: 0.4904 - accuracy: 0.8967\n",
      "Epoch 94/100\n",
      "1518/1518 [==============================] - 317s 209ms/step - loss: 0.4780 - accuracy: 0.9002\n",
      "Epoch 95/100\n",
      "1518/1518 [==============================] - 317s 209ms/step - loss: 0.4752 - accuracy: 0.9014\n",
      "Epoch 96/100\n",
      "1518/1518 [==============================] - 317s 209ms/step - loss: 0.4675 - accuracy: 0.9025\n",
      "Epoch 97/100\n",
      "1518/1518 [==============================] - 318s 209ms/step - loss: 0.4660 - accuracy: 0.9043\n",
      "Epoch 98/100\n",
      "1518/1518 [==============================] - 316s 208ms/step - loss: 0.4638 - accuracy: 0.9030\n",
      "Epoch 99/100\n",
      "1518/1518 [==============================] - 317s 209ms/step - loss: 0.4560 - accuracy: 0.9070\n",
      "Epoch 100/100\n",
      "1518/1518 [==============================] - 317s 209ms/step - loss: 0.4579 - accuracy: 0.9042\n"
     ]
    },
    {
     "name": "stderr",
     "output_type": "stream",
     "text": [
      "WARNING:absl:Found untraced functions such as lstm_cell_layer_call_fn, lstm_cell_layer_call_and_return_conditional_losses, restored_function_body, restored_function_body, restored_function_body while saving (showing 5 of 362). These functions will not be directly callable after loading.\n"
     ]
    },
    {
     "name": "stdout",
     "output_type": "stream",
     "text": [
      "INFO:tensorflow:Assets written to: englishLSTMNextWord\\assets\n"
     ]
    },
    {
     "name": "stderr",
     "output_type": "stream",
     "text": [
      "INFO:tensorflow:Assets written to: englishLSTMNextWord\\assets\n",
      "WARNING:absl:<keras.layers.recurrent.LSTMCell object at 0x000001C7D8238CA0> has the same name 'LSTMCell' as a built-in Keras object. Consider renaming <class 'keras.layers.recurrent.LSTMCell'> to avoid naming conflicts when loading with `tf.keras.models.load_model`. If renaming is not possible, pass the object in the `custom_objects` parameter of the load function.\n"
     ]
    },
    {
     "name": "stdout",
     "output_type": "stream",
     "text": [
      "Target task language model train history:\n"
     ]
    },
    {
     "data": {
      "image/png": "[encoded data removed]",
      "text/plain": [
       "<Figure size 432x288 with 1 Axes>"
      ]
     },
     "metadata": {
      "needs_background": "light"
     },
     "output_type": "display_data"
    },
    {
     "data": {
      "image/png": "[encoded data removed]",
      "text/plain": [
       "<Figure size 432x288 with 1 Axes>"
      ]
     },
     "metadata": {
      "needs_background": "light"
     },
     "output_type": "display_data"
    },
    {
     "name": "stdout",
     "output_type": "stream",
     "text": [
      "Target task classifier fine tuning:\n",
      "Model: \"model_1\"\n",
      "__________________________________________________________________________________________________\n",
      " Layer (type)                   Output Shape         Param #     Connected to                     \n",
      "==================================================================================================\n",
      " input_layer (InputLayer)       [(None,)]            0           []                               \n",
      "                                                                                                  \n",
      " keras_layer (KerasLayer)       {'input_mask': (Non  0           ['input_layer[0][0]']            \n",
      "                                e, 128),                                                          \n",
      "                                 'input_word_ids':                                                \n",
      "                                (None, 128),                                                      \n",
      "                                 'input_type_ids':                                                \n",
      "                                (None, 128)}                                                      \n",
      "                                                                                                  \n",
      " keras_layer_1 (KerasLayer)     {'pooled_output': (  219171840   ['keras_layer[0][0]',            \n",
      "                                None, 768),                       'keras_layer[0][1]',            \n",
      "                                 'sequence_output':               'keras_layer[0][2]']            \n",
      "                                 (None, 128, 768),                                                \n",
      "                                 'encoder_outputs':                                               \n",
      "                                 [(None, 128, 768),                                               \n",
      "                                 (None, 128, 768),                                                \n",
      "                                 (None, 128, 768),                                                \n",
      "                                 (None, 128, 768),                                                \n",
      "                                 (None, 128, 768),                                                \n",
      "                                 (None, 128, 768),                                                \n",
      "                                 (None, 128, 768),                                                \n",
      "                                 (None, 128, 768),                                                \n",
      "                                 (None, 128, 768),                                                \n",
      "                                 (None, 128, 768),                                                \n",
      "                                 (None, 128, 768),                                                \n",
      "                                 (None, 128, 768)]}                                               \n",
      "                                                                                                  \n",
      " lstm (LSTM)                    (None, 768)          4721664     ['keras_layer_1[0][13]']         \n",
      "                                                                                                  \n",
      " batch_normalization_1 (BatchNo  (None, 768)         3072        ['lstm[0][0]']                   \n",
      " rmalization)                                                                                     \n",
      "                                                                                                  \n",
      " dropout (Dropout)              (None, 768)          0           ['batch_normalization_1[0][0]']  \n",
      "                                                                                                  \n",
      " relu (Dense)                   (None, 64)           49216       ['dropout[0][0]']                \n",
      "                                                                                                  \n",
      " batch_normalization_2 (BatchNo  (None, 64)          256         ['relu[0][0]']                   \n",
      " rmalization)                                                                                     \n",
      "                                                                                                  \n",
      " dropout_1 (Dropout)            (None, 64)           0           ['batch_normalization_2[0][0]']  \n",
      "                                                                                                  \n",
      " softmax (Dense)                (None, 3)            195         ['dropout_1[0][0]']              \n",
      "                                                                                                  \n",
      "==================================================================================================\n",
      "Total params: 223,946,243\n",
      "Trainable params: 4,772,739\n",
      "Non-trainable params: 219,173,504\n",
      "__________________________________________________________________________________________________\n",
      "Epoch 1/5\n",
      "200/200 [==============================] - 45s 209ms/step - loss: 1.4519 - accuracy: 0.4575\n",
      "Epoch 2/5\n",
      "200/200 [==============================] - 42s 208ms/step - loss: 1.0687 - accuracy: 0.5945\n",
      "Epoch 3/5\n",
      "200/200 [==============================] - 42s 210ms/step - loss: 0.8948 - accuracy: 0.6534\n",
      "Epoch 4/5\n",
      "200/200 [==============================] - 42s 209ms/step - loss: 0.7727 - accuracy: 0.6984\n",
      "Epoch 5/5\n",
      "200/200 [==============================] - 42s 208ms/step - loss: 0.6841 - accuracy: 0.7327\n",
      "Epoch 1/5\n",
      "200/200 [==============================] - 42s 210ms/step - loss: 0.6084 - accuracy: 0.7600\n",
      "Epoch 2/5\n",
      "200/200 [==============================] - 42s 208ms/step - loss: 0.5295 - accuracy: 0.7952\n",
      "Epoch 3/5\n",
      "200/200 [==============================] - 42s 210ms/step - loss: 0.4715 - accuracy: 0.8172\n",
      "Epoch 4/5\n",
      "200/200 [==============================] - 42s 209ms/step - loss: 0.4330 - accuracy: 0.8298\n",
      "Epoch 5/5\n",
      "200/200 [==============================] - 41s 207ms/step - loss: 0.3932 - accuracy: 0.8491\n",
      "Epoch 1/20\n",
      "200/200 [==============================] - 52s 262ms/step - loss: 0.3452 - accuracy: 0.8719 - val_loss: 0.6744 - val_accuracy: 0.7719\n",
      "Epoch 2/20\n",
      "200/200 [==============================] - 51s 255ms/step - loss: 0.2961 - accuracy: 0.8902 - val_loss: 0.6772 - val_accuracy: 0.7644\n",
      "Epoch 3/20\n",
      "200/200 [==============================] - 52s 258ms/step - loss: 0.2476 - accuracy: 0.9134 - val_loss: 0.7396 - val_accuracy: 0.7644\n",
      "Epoch 4/20\n",
      "200/200 [==============================] - 51s 256ms/step - loss: 0.2145 - accuracy: 0.9197 - val_loss: 0.7439 - val_accuracy: 0.7700\n",
      "Epoch 5/20\n",
      "200/200 [==============================] - 51s 256ms/step - loss: 0.1774 - accuracy: 0.9405 - val_loss: 0.7895 - val_accuracy: 0.7625\n",
      "Epoch 6/20\n",
      "200/200 [==============================] - 52s 258ms/step - loss: 0.1581 - accuracy: 0.9452 - val_loss: 0.7999 - val_accuracy: 0.7681\n",
      "Epoch 7/20\n",
      "200/200 [==============================] - 51s 256ms/step - loss: 0.1367 - accuracy: 0.9541 - val_loss: 0.8478 - val_accuracy: 0.7750\n",
      "Epoch 8/20\n",
      "200/200 [==============================] - 51s 257ms/step - loss: 0.1187 - accuracy: 0.9633 - val_loss: 0.8713 - val_accuracy: 0.7644\n",
      "Epoch 9/20\n",
      "200/200 [==============================] - 51s 257ms/step - loss: 0.0963 - accuracy: 0.9714 - val_loss: 0.9664 - val_accuracy: 0.7619\n",
      "Epoch 10/20\n",
      "200/200 [==============================] - 52s 259ms/step - loss: 0.0804 - accuracy: 0.9752 - val_loss: 1.1186 - val_accuracy: 0.7481\n",
      "Epoch 11/20\n",
      "200/200 [==============================] - 51s 256ms/step - loss: 0.0793 - accuracy: 0.9775 - val_loss: 1.0434 - val_accuracy: 0.7638\n",
      "Epoch 12/20\n",
      "200/200 [==============================] - 51s 258ms/step - loss: 0.0722 - accuracy: 0.9787 - val_loss: 1.0728 - val_accuracy: 0.7606\n",
      "Epoch 13/20\n",
      "200/200 [==============================] - 52s 258ms/step - loss: 0.0665 - accuracy: 0.9809 - val_loss: 1.0591 - val_accuracy: 0.7631\n",
      "Epoch 14/20\n",
      "200/200 [==============================] - 51s 256ms/step - loss: 0.1597 - accuracy: 0.9588 - val_loss: 0.9516 - val_accuracy: 0.7369\n",
      "Epoch 15/20\n",
      "200/200 [==============================] - 51s 256ms/step - loss: 0.2375 - accuracy: 0.9205 - val_loss: 1.1443 - val_accuracy: 0.7262\n",
      "Epoch 16/20\n",
      "200/200 [==============================] - 51s 255ms/step - loss: 0.1047 - accuracy: 0.9650 - val_loss: 1.0642 - val_accuracy: 0.7594\n"
     ]
    },
    {
     "name": "stdout",
     "output_type": "stream",
     "text": [
      "Epoch 17/20\n",
      "200/200 [==============================] - 51s 257ms/step - loss: 0.0792 - accuracy: 0.9755 - val_loss: 1.0776 - val_accuracy: 0.7550\n",
      "Epoch 18/20\n",
      "200/200 [==============================] - 51s 257ms/step - loss: 0.0732 - accuracy: 0.9766 - val_loss: 1.1593 - val_accuracy: 0.7437\n",
      "Epoch 19/20\n",
      "200/200 [==============================] - 51s 257ms/step - loss: 0.0463 - accuracy: 0.9870 - val_loss: 1.1627 - val_accuracy: 0.7638\n",
      "Epoch 20/20\n",
      "200/200 [==============================] - 52s 258ms/step - loss: 0.0437 - accuracy: 0.9875 - val_loss: 1.1910 - val_accuracy: 0.7538\n"
     ]
    },
    {
     "name": "stderr",
     "output_type": "stream",
     "text": [
      "WARNING:absl:Found untraced functions such as lstm_cell_layer_call_fn, lstm_cell_layer_call_and_return_conditional_losses, restored_function_body, restored_function_body, restored_function_body while saving (showing 5 of 362). These functions will not be directly callable after loading.\n"
     ]
    },
    {
     "name": "stdout",
     "output_type": "stream",
     "text": [
      "INFO:tensorflow:Assets written to: englishLSTMsentimental\\assets\n"
     ]
    },
    {
     "name": "stderr",
     "output_type": "stream",
     "text": [
      "INFO:tensorflow:Assets written to: englishLSTMsentimental\\assets\n",
      "WARNING:absl:<keras.layers.recurrent.LSTMCell object at 0x000001C7D8238CA0> has the same name 'LSTMCell' as a built-in Keras object. Consider renaming <class 'keras.layers.recurrent.LSTMCell'> to avoid naming conflicts when loading with `tf.keras.models.load_model`. If renaming is not possible, pass the object in the `custom_objects` parameter of the load function.\n"
     ]
    },
    {
     "data": {
      "image/png": "[encoded data removed]",
      "text/plain": [
       "<Figure size 432x288 with 1 Axes>"
      ]
     },
     "metadata": {
      "needs_background": "light"
     },
     "output_type": "display_data"
    },
    {
     "data": {
      "image/png": "[encoded data removed]",
      "text/plain": [
       "<Figure size 432x288 with 1 Axes>"
      ]
     },
     "metadata": {
      "needs_background": "light"
     },
     "output_type": "display_data"
    }
   ],
   "source": [
    "print(\"Target task language model fine tuning:\")\n",
    "english_LSTM_model,train_history = target_task_language_model_fine_tuning(\"englishLSTMNextWord\",\"lstm\",total_unique_words,sequences,lables,needed_epochs=100)\n",
    "if train_history:\n",
    "    print(\"Target task language model train history:\")\n",
    "    get_loss_plot(train_history).show()\n",
    "    get_accuracy_plot(train_history).show()\n",
    "\n",
    "print(\"Target task classifier fine tuning:\")\n",
    "model_dir_name = \"englishLSTMsentimental\"\n",
    "new_layers = [tf.keras.layers.Dense(64, activation='relu',name='relu'),tf.keras.layers.Dense(3,activation='softmax',name='softmax')]\n",
    "english_LSTM_model,is_model_loaded = adjust_model_architecture_for_traget_task(english_LSTM_model,new_layers,model_dir_name)\n",
    "if not is_model_loaded:\n",
    "    fine_tuning_history = target_task_classifier_fine_tuning(english_LSTM_model,x_train,y_train,x_test,y_test,needed_epochs=20)\n",
    "    english_LSTM_model.save(model_dir_name)\n",
    "    get_loss_plot(fine_tuning_history).show()\n",
    "    get_accuracy_plot(fine_tuning_history).show()"
   ]
  },
  {
   "cell_type": "code",
   "execution_count": 17,
   "id": "8a5435bd",
   "metadata": {},
   "outputs": [
    {
     "name": "stdout",
     "output_type": "stream",
     "text": [
      "50/50 [==============================] - 10s 192ms/step - loss: 1.1910 - accuracy: 0.7538\n",
      "Test accuracy: 0.7537500262260437\n"
     ]
    }
   ],
   "source": [
    "score = english_LSTM_model.evaluate(x_test, y_test)\n",
    "print('Test accuracy:', score[1])"
   ]
  },
  {
   "cell_type": "code",
   "execution_count": 18,
   "id": "6dcc2a73",
   "metadata": {},
   "outputs": [
    {
     "name": "stdout",
     "output_type": "stream",
     "text": [
      "Example:\n",
      "it was amazing, and arrived an hour early. You're too good to me. : positive\n"
     ]
    }
   ],
   "source": [
    "print(\"Example:\")\n",
    "prediction = english_LSTM_model.predict([\"it was amazing, and arrived an hour early. You're too good to me.\"])\n",
    "sentiment = get_sentiment_analysis_prediction(list(prediction[0]))\n",
    "print(\"it was amazing, and arrived an hour early. You're too good to me. : \" +sentiment)"
   ]
  },
  {
   "cell_type": "code",
   "execution_count": 19,
   "id": "57452107",
   "metadata": {},
   "outputs": [
    {
     "name": "stdout",
     "output_type": "stream",
     "text": [
      "Example:\n",
      "and it's a really big bad thing about it : negative\n"
     ]
    }
   ],
   "source": [
    "print(\"Example:\")\n",
    "prediction = english_LSTM_model.predict([\"and it's a really big bad thing about it\"])\n",
    "sentiment = get_sentiment_analysis_prediction(list(prediction[0]))\n",
    "print(\"and it's a really big bad thing about it : \" +sentiment)"
   ]
  },
  {
   "cell_type": "markdown",
   "id": "133bece1",
   "metadata": {},
   "source": [
    "# NLP task - sentimental analysis for Twitter US Airline.\n",
    "\n",
    "# GRU intermediate layer\n",
    "\n",
    "language: english.\n",
    "\n",
    "1.General domain language model pretraining - in this code,smaller_LaBSE_15lang is used as embedding layer in the language model, smaller_LaBSE_15lang is already pretrained on 15 language including English.\n",
    "\n",
    "\n",
    "2.Target task language model fine tuning - Tuned the model to predict the next word in the sequence.\n",
    "\n",
    "3.Target task classifier - the model is adjusted  according to the targeted task, then it is fine-tuning with sentimental analysis dataset.\n",
    "\n",
    "Text data: wikitext-2-raw-v1.txt.\n",
    "\n",
    "sentimental analysis dataset: Twitter US Airline Sentiment dataset.\n"
   ]
  },
  {
   "cell_type": "code",
   "execution_count": 20,
   "id": "18693342",
   "metadata": {
    "scrolled": false
   },
   "outputs": [
    {
     "name": "stdout",
     "output_type": "stream",
     "text": [
      "Target task language model fine tuning:\n",
      "Model: \"model_2\"\n",
      "__________________________________________________________________________________________________\n",
      " Layer (type)                   Output Shape         Param #     Connected to                     \n",
      "==================================================================================================\n",
      " input_layer (InputLayer)       [(None,)]            0           []                               \n",
      "                                                                                                  \n",
      " keras_layer (KerasLayer)       {'input_mask': (Non  0           ['input_layer[0][0]']            \n",
      "                                e, 128),                                                          \n",
      "                                 'input_word_ids':                                                \n",
      "                                (None, 128),                                                      \n",
      "                                 'input_type_ids':                                                \n",
      "                                (None, 128)}                                                      \n",
      "                                                                                                  \n",
      " keras_layer_1 (KerasLayer)     {'pooled_output': (  219171840   ['keras_layer[1][0]',            \n",
      "                                None, 768),                       'keras_layer[1][1]',            \n",
      "                                 'sequence_output':               'keras_layer[1][2]']            \n",
      "                                 (None, 128, 768),                                                \n",
      "                                 'encoder_outputs':                                               \n",
      "                                 [(None, 128, 768),                                               \n",
      "                                 (None, 128, 768),                                                \n",
      "                                 (None, 128, 768),                                                \n",
      "                                 (None, 128, 768),                                                \n",
      "                                 (None, 128, 768),                                                \n",
      "                                 (None, 128, 768),                                                \n",
      "                                 (None, 128, 768),                                                \n",
      "                                 (None, 128, 768),                                                \n",
      "                                 (None, 128, 768),                                                \n",
      "                                 (None, 128, 768),                                                \n",
      "                                 (None, 128, 768),                                                \n",
      "                                 (None, 128, 768)]}                                               \n",
      "                                                                                                  \n",
      " gru_1 (GRU)                    (None, 768)          3543552     ['keras_layer_1[1][13]']         \n",
      "                                                                                                  \n",
      " batch_normalization_3 (BatchNo  (None, 768)         3072        ['gru_1[0][0]']                  \n",
      " rmalization)                                                                                     \n",
      "                                                                                                  \n",
      " dropout (Dropout)              (None, 768)          0           ['batch_normalization_3[0][0]']  \n",
      "                                                                                                  \n",
      " output (Dense)                 (None, 19266)        14815554    ['dropout[0][0]']                \n",
      "                                                                                                  \n",
      "==================================================================================================\n",
      "Total params: 237,534,018\n",
      "Trainable params: 18,360,642\n",
      "Non-trainable params: 219,173,376\n",
      "__________________________________________________________________________________________________\n",
      "Epoch 1/70\n",
      "1518/1518 [==============================] - 310s 201ms/step - loss: 9.8351 - accuracy: 0.0022\n",
      "Epoch 2/70\n",
      "1518/1518 [==============================] - 305s 201ms/step - loss: 9.0811 - accuracy: 0.0103\n",
      "Epoch 3/70\n",
      "1518/1518 [==============================] - 305s 201ms/step - loss: 8.3570 - accuracy: 0.0185\n",
      "Epoch 4/70\n",
      "1518/1518 [==============================] - 305s 201ms/step - loss: 7.6850 - accuracy: 0.0280\n",
      "Epoch 5/70\n",
      "1518/1518 [==============================] - 306s 202ms/step - loss: 7.0040 - accuracy: 0.0416\n",
      "Epoch 6/70\n",
      "1518/1518 [==============================] - 305s 201ms/step - loss: 6.3270 - accuracy: 0.0636\n",
      "Epoch 7/70\n",
      "1518/1518 [==============================] - 305s 201ms/step - loss: 5.7171 - accuracy: 0.0913\n",
      "Epoch 8/70\n",
      "1518/1518 [==============================] - 306s 201ms/step - loss: 5.1919 - accuracy: 0.1191\n",
      "Epoch 9/70\n",
      "1518/1518 [==============================] - 305s 201ms/step - loss: 4.7832 - accuracy: 0.1422\n",
      "Epoch 10/70\n",
      "1518/1518 [==============================] - 305s 201ms/step - loss: 4.4534 - accuracy: 0.1666\n",
      "Epoch 11/70\n",
      "1518/1518 [==============================] - 305s 201ms/step - loss: 4.2005 - accuracy: 0.1865\n",
      "Epoch 12/70\n",
      "1518/1518 [==============================] - 305s 201ms/step - loss: 3.9847 - accuracy: 0.2034\n",
      "Epoch 13/70\n",
      "1518/1518 [==============================] - 306s 201ms/step - loss: 3.8108 - accuracy: 0.2225\n",
      "Epoch 14/70\n",
      "1518/1518 [==============================] - 305s 201ms/step - loss: 3.6513 - accuracy: 0.2387\n",
      "Epoch 15/70\n",
      "1518/1518 [==============================] - 305s 201ms/step - loss: 3.5066 - accuracy: 0.2585\n",
      "Epoch 16/70\n",
      "1518/1518 [==============================] - 306s 201ms/step - loss: 3.3768 - accuracy: 0.2744\n",
      "Epoch 17/70\n",
      "1518/1518 [==============================] - 305s 201ms/step - loss: 3.2384 - accuracy: 0.2940\n",
      "Epoch 18/70\n",
      "1518/1518 [==============================] - 305s 201ms/step - loss: 3.1170 - accuracy: 0.3123\n",
      "Epoch 19/70\n",
      "1518/1518 [==============================] - 305s 201ms/step - loss: 3.0009 - accuracy: 0.3286\n",
      "Epoch 20/70\n",
      "1518/1518 [==============================] - 305s 201ms/step - loss: 2.8814 - accuracy: 0.3486\n",
      "Epoch 21/70\n",
      "1518/1518 [==============================] - 305s 201ms/step - loss: 2.7612 - accuracy: 0.3721\n",
      "Epoch 22/70\n",
      "1518/1518 [==============================] - 305s 201ms/step - loss: 2.6493 - accuracy: 0.3910\n",
      "Epoch 23/70\n",
      "1518/1518 [==============================] - 306s 201ms/step - loss: 2.5441 - accuracy: 0.4077\n",
      "Epoch 24/70\n",
      "1518/1518 [==============================] - 305s 201ms/step - loss: 2.4210 - accuracy: 0.4320\n",
      "Epoch 25/70\n",
      "1518/1518 [==============================] - 305s 201ms/step - loss: 2.3064 - accuracy: 0.4543\n",
      "Epoch 26/70\n",
      "1518/1518 [==============================] - 305s 201ms/step - loss: 2.1833 - accuracy: 0.4834\n",
      "Epoch 27/70\n",
      "1518/1518 [==============================] - 306s 201ms/step - loss: 2.0888 - accuracy: 0.5027\n",
      "Epoch 28/70\n",
      "1518/1518 [==============================] - 305s 201ms/step - loss: 1.9685 - accuracy: 0.5290\n",
      "Epoch 29/70\n",
      "1518/1518 [==============================] - 305s 201ms/step - loss: 1.8636 - accuracy: 0.5545\n",
      "Epoch 30/70\n",
      "1518/1518 [==============================] - 306s 201ms/step - loss: 1.7473 - accuracy: 0.5781\n",
      "Epoch 31/70\n",
      "1518/1518 [==============================] - 305s 201ms/step - loss: 1.6605 - accuracy: 0.5992\n",
      "Epoch 32/70\n",
      "1518/1518 [==============================] - 306s 202ms/step - loss: 1.5491 - accuracy: 0.6292\n",
      "Epoch 33/70\n",
      "1518/1518 [==============================] - 305s 201ms/step - loss: 1.4668 - accuracy: 0.6487\n",
      "Epoch 34/70\n",
      "1518/1518 [==============================] - 305s 201ms/step - loss: 1.3702 - accuracy: 0.6712\n",
      "Epoch 35/70\n",
      "1518/1518 [==============================] - 304s 200ms/step - loss: 1.2957 - accuracy: 0.6916\n",
      "Epoch 36/70\n",
      "1518/1518 [==============================] - 306s 201ms/step - loss: 1.2075 - accuracy: 0.7140\n",
      "Epoch 37/70\n",
      "1518/1518 [==============================] - 305s 201ms/step - loss: 1.1326 - accuracy: 0.7319\n",
      "Epoch 38/70\n",
      "1518/1518 [==============================] - 306s 202ms/step - loss: 1.0753 - accuracy: 0.7496\n",
      "Epoch 39/70\n",
      "1518/1518 [==============================] - 305s 201ms/step - loss: 1.0056 - accuracy: 0.7674\n",
      "Epoch 40/70\n",
      "1518/1518 [==============================] - 304s 201ms/step - loss: 0.9573 - accuracy: 0.7811\n",
      "Epoch 41/70\n",
      "1518/1518 [==============================] - 304s 200ms/step - loss: 0.9127 - accuracy: 0.7912\n",
      "Epoch 42/70\n",
      "1518/1518 [==============================] - 304s 200ms/step - loss: 0.8523 - accuracy: 0.8079\n",
      "Epoch 43/70\n",
      "1518/1518 [==============================] - 304s 201ms/step - loss: 0.8279 - accuracy: 0.8153\n",
      "Epoch 44/70\n",
      "1518/1518 [==============================] - 305s 201ms/step - loss: 0.7807 - accuracy: 0.8285\n",
      "Epoch 45/70\n",
      "1518/1518 [==============================] - 305s 201ms/step - loss: 0.7495 - accuracy: 0.8357\n",
      "Epoch 46/70\n",
      "1518/1518 [==============================] - 304s 200ms/step - loss: 0.7163 - accuracy: 0.8453\n",
      "Epoch 47/70\n",
      "1518/1518 [==============================] - 304s 200ms/step - loss: 0.6951 - accuracy: 0.8524\n",
      "Epoch 48/70\n",
      "1518/1518 [==============================] - 303s 200ms/step - loss: 0.6676 - accuracy: 0.8594\n",
      "Epoch 49/70\n",
      "1518/1518 [==============================] - 305s 201ms/step - loss: 0.6441 - accuracy: 0.8650\n",
      "Epoch 50/70\n",
      "1518/1518 [==============================] - 304s 200ms/step - loss: 0.6286 - accuracy: 0.8695\n",
      "Epoch 51/70\n",
      "1518/1518 [==============================] - 304s 200ms/step - loss: 0.6144 - accuracy: 0.8751\n",
      "Epoch 52/70\n",
      "1518/1518 [==============================] - 304s 200ms/step - loss: 0.5994 - accuracy: 0.8780\n",
      "Epoch 53/70\n",
      "1518/1518 [==============================] - 304s 200ms/step - loss: 0.5804 - accuracy: 0.8827\n",
      "Epoch 54/70\n",
      "1518/1518 [==============================] - 305s 201ms/step - loss: 0.5624 - accuracy: 0.8884\n",
      "Epoch 55/70\n",
      "1518/1518 [==============================] - 305s 201ms/step - loss: 0.5588 - accuracy: 0.8910\n",
      "Epoch 56/70\n",
      "1518/1518 [==============================] - 304s 200ms/step - loss: 0.5492 - accuracy: 0.8915\n",
      "Epoch 57/70\n",
      "1518/1518 [==============================] - 304s 200ms/step - loss: 0.5401 - accuracy: 0.8953\n",
      "Epoch 58/70\n",
      "1518/1518 [==============================] - 304s 201ms/step - loss: 0.5336 - accuracy: 0.8961\n",
      "Epoch 59/70\n",
      "1518/1518 [==============================] - 304s 200ms/step - loss: 0.5239 - accuracy: 0.9000\n",
      "Epoch 60/70\n",
      "1518/1518 [==============================] - 304s 200ms/step - loss: 0.5094 - accuracy: 0.9043\n",
      "Epoch 61/70\n",
      "1518/1518 [==============================] - 305s 201ms/step - loss: 0.5064 - accuracy: 0.9035\n",
      "Epoch 62/70\n",
      "1518/1518 [==============================] - 304s 200ms/step - loss: 0.5002 - accuracy: 0.9069\n",
      "Epoch 63/70\n",
      "1518/1518 [==============================] - 304s 200ms/step - loss: 0.4947 - accuracy: 0.9081\n",
      "Epoch 64/70\n",
      "1518/1518 [==============================] - 305s 201ms/step - loss: 0.4894 - accuracy: 0.9090\n",
      "Epoch 65/70\n",
      "1518/1518 [==============================] - 304s 200ms/step - loss: 0.4907 - accuracy: 0.9066\n",
      "Epoch 66/70\n",
      "1518/1518 [==============================] - 304s 200ms/step - loss: 0.4812 - accuracy: 0.9113\n",
      "Epoch 67/70\n",
      "1518/1518 [==============================] - 306s 201ms/step - loss: 0.4741 - accuracy: 0.9126\n",
      "Epoch 68/70\n",
      "1518/1518 [==============================] - 305s 201ms/step - loss: 0.4698 - accuracy: 0.9145\n",
      "Epoch 69/70\n",
      "1518/1518 [==============================] - 305s 201ms/step - loss: 0.4683 - accuracy: 0.9162\n",
      "Epoch 70/70\n",
      "1518/1518 [==============================] - 305s 201ms/step - loss: 0.4633 - accuracy: 0.9161\n"
     ]
    },
    {
     "name": "stderr",
     "output_type": "stream",
     "text": [
      "WARNING:absl:Found untraced functions such as gru_cell_1_layer_call_fn, gru_cell_1_layer_call_and_return_conditional_losses, restored_function_body, restored_function_body, restored_function_body while saving (showing 5 of 362). These functions will not be directly callable after loading.\n"
     ]
    },
    {
     "name": "stdout",
     "output_type": "stream",
     "text": [
      "INFO:tensorflow:Assets written to: englishGRUNextWord\\assets\n"
     ]
    },
    {
     "name": "stderr",
     "output_type": "stream",
     "text": [
      "INFO:tensorflow:Assets written to: englishGRUNextWord\\assets\n",
      "WARNING:absl:<keras.layers.recurrent.GRUCell object at 0x000001C9EBB407F0> has the same name 'GRUCell' as a built-in Keras object. Consider renaming <class 'keras.layers.recurrent.GRUCell'> to avoid naming conflicts when loading with `tf.keras.models.load_model`. If renaming is not possible, pass the object in the `custom_objects` parameter of the load function.\n"
     ]
    },
    {
     "name": "stdout",
     "output_type": "stream",
     "text": [
      "Target task language model train history:\n"
     ]
    },
    {
     "data": {
      "image/png": "[encoded data removed]",
      "text/plain": [
       "<Figure size 432x288 with 1 Axes>"
      ]
     },
     "metadata": {
      "needs_background": "light"
     },
     "output_type": "display_data"
    },
    {
     "data": {
      "image/png": "[encoded data removed]",
      "text/plain": [
       "<Figure size 432x288 with 1 Axes>"
      ]
     },
     "metadata": {
      "needs_background": "light"
     },
     "output_type": "display_data"
    },
    {
     "name": "stdout",
     "output_type": "stream",
     "text": [
      "Target task classifier fine tuning:\n",
      "Model: \"model_3\"\n",
      "__________________________________________________________________________________________________\n",
      " Layer (type)                   Output Shape         Param #     Connected to                     \n",
      "==================================================================================================\n",
      " input_layer (InputLayer)       [(None,)]            0           []                               \n",
      "                                                                                                  \n",
      " keras_layer (KerasLayer)       {'input_mask': (Non  0           ['input_layer[0][0]']            \n",
      "                                e, 128),                                                          \n",
      "                                 'input_word_ids':                                                \n",
      "                                (None, 128),                                                      \n",
      "                                 'input_type_ids':                                                \n",
      "                                (None, 128)}                                                      \n",
      "                                                                                                  \n",
      " keras_layer_1 (KerasLayer)     {'pooled_output': (  219171840   ['keras_layer[1][0]',            \n",
      "                                None, 768),                       'keras_layer[1][1]',            \n",
      "                                 'sequence_output':               'keras_layer[1][2]']            \n",
      "                                 (None, 128, 768),                                                \n",
      "                                 'encoder_outputs':                                               \n",
      "                                 [(None, 128, 768),                                               \n",
      "                                 (None, 128, 768),                                                \n",
      "                                 (None, 128, 768),                                                \n",
      "                                 (None, 128, 768),                                                \n",
      "                                 (None, 128, 768),                                                \n",
      "                                 (None, 128, 768),                                                \n",
      "                                 (None, 128, 768),                                                \n",
      "                                 (None, 128, 768),                                                \n",
      "                                 (None, 128, 768),                                                \n",
      "                                 (None, 128, 768),                                                \n",
      "                                 (None, 128, 768),                                                \n",
      "                                 (None, 128, 768)]}                                               \n",
      "                                                                                                  \n",
      " gru_1 (GRU)                    (None, 768)          3543552     ['keras_layer_1[1][13]']         \n",
      "                                                                                                  \n",
      " batch_normalization_4 (BatchNo  (None, 768)         3072        ['gru_1[0][0]']                  \n",
      " rmalization)                                                                                     \n",
      "                                                                                                  \n",
      " dropout_2 (Dropout)            (None, 768)          0           ['batch_normalization_4[0][0]']  \n",
      "                                                                                                  \n",
      " relu (Dense)                   (None, 64)           49216       ['dropout_2[0][0]']              \n",
      "                                                                                                  \n",
      " batch_normalization_5 (BatchNo  (None, 64)          256         ['relu[0][0]']                   \n",
      " rmalization)                                                                                     \n",
      "                                                                                                  \n",
      " dropout_3 (Dropout)            (None, 64)           0           ['batch_normalization_5[0][0]']  \n",
      "                                                                                                  \n",
      " softmax (Dense)                (None, 3)            195         ['dropout_3[0][0]']              \n",
      "                                                                                                  \n",
      "==================================================================================================\n",
      "Total params: 222,768,131\n",
      "Trainable params: 3,594,627\n",
      "Non-trainable params: 219,173,504\n",
      "__________________________________________________________________________________________________\n",
      "Epoch 1/5\n",
      "200/200 [==============================] - 42s 196ms/step - loss: 1.3400 - accuracy: 0.4933\n",
      "Epoch 2/5\n",
      "200/200 [==============================] - 39s 196ms/step - loss: 0.9723 - accuracy: 0.6237\n",
      "Epoch 3/5\n",
      "200/200 [==============================] - 40s 198ms/step - loss: 0.8330 - accuracy: 0.6847\n",
      "Epoch 4/5\n",
      "200/200 [==============================] - 39s 197ms/step - loss: 0.7115 - accuracy: 0.7309\n",
      "Epoch 5/5\n",
      "200/200 [==============================] - 39s 196ms/step - loss: 0.6389 - accuracy: 0.7561\n",
      "Epoch 1/5\n",
      "200/200 [==============================] - 39s 195ms/step - loss: 0.5759 - accuracy: 0.7798\n",
      "Epoch 2/5\n",
      "200/200 [==============================] - 39s 195ms/step - loss: 0.5169 - accuracy: 0.8092\n",
      "Epoch 3/5\n",
      "200/200 [==============================] - 40s 198ms/step - loss: 0.4452 - accuracy: 0.8294\n",
      "Epoch 4/5\n",
      "200/200 [==============================] - 39s 196ms/step - loss: 0.3829 - accuracy: 0.8575\n",
      "Epoch 5/5\n",
      "200/200 [==============================] - 39s 196ms/step - loss: 0.3341 - accuracy: 0.8748\n",
      "Epoch 1/20\n",
      "200/200 [==============================] - 49s 247ms/step - loss: 0.3083 - accuracy: 0.8875 - val_loss: 0.7116 - val_accuracy: 0.7837\n",
      "Epoch 2/20\n",
      "200/200 [==============================] - 49s 244ms/step - loss: 0.2610 - accuracy: 0.9070 - val_loss: 0.7058 - val_accuracy: 0.7794\n",
      "Epoch 3/20\n",
      "200/200 [==============================] - 49s 244ms/step - loss: 0.2410 - accuracy: 0.9106 - val_loss: 2.1905 - val_accuracy: 0.5537\n",
      "Epoch 4/20\n",
      "200/200 [==============================] - 49s 243ms/step - loss: 0.2774 - accuracy: 0.9009 - val_loss: 0.8067 - val_accuracy: 0.7738\n",
      "Epoch 5/20\n",
      "200/200 [==============================] - 48s 241ms/step - loss: 0.1748 - accuracy: 0.9386 - val_loss: 0.8152 - val_accuracy: 0.7763\n",
      "Epoch 6/20\n",
      "200/200 [==============================] - 48s 241ms/step - loss: 0.1905 - accuracy: 0.9375 - val_loss: 0.8581 - val_accuracy: 0.7644\n",
      "Epoch 7/20\n",
      "200/200 [==============================] - 48s 243ms/step - loss: 0.1326 - accuracy: 0.9561 - val_loss: 0.9157 - val_accuracy: 0.7800\n",
      "Epoch 8/20\n",
      "200/200 [==============================] - 49s 244ms/step - loss: 0.1508 - accuracy: 0.9500 - val_loss: 0.9775 - val_accuracy: 0.7744\n",
      "Epoch 9/20\n",
      "200/200 [==============================] - 49s 246ms/step - loss: 0.2515 - accuracy: 0.9166 - val_loss: 0.8664 - val_accuracy: 0.7781\n",
      "Epoch 10/20\n",
      "200/200 [==============================] - 50s 251ms/step - loss: 0.1363 - accuracy: 0.9553 - val_loss: 0.9286 - val_accuracy: 0.7819\n",
      "Epoch 11/20\n",
      "200/200 [==============================] - 49s 246ms/step - loss: 0.0848 - accuracy: 0.9755 - val_loss: 1.0737 - val_accuracy: 0.7794\n",
      "Epoch 12/20\n",
      "200/200 [==============================] - 48s 242ms/step - loss: 0.1058 - accuracy: 0.9678 - val_loss: 1.0692 - val_accuracy: 0.7700\n",
      "Epoch 13/20\n",
      "200/200 [==============================] - 48s 242ms/step - loss: 0.1213 - accuracy: 0.9617 - val_loss: 0.8956 - val_accuracy: 0.7606\n",
      "Epoch 14/20\n",
      "200/200 [==============================] - 49s 244ms/step - loss: 0.1133 - accuracy: 0.9658 - val_loss: 1.1607 - val_accuracy: 0.7631\n",
      "Epoch 15/20\n",
      "200/200 [==============================] - 48s 242ms/step - loss: 0.1033 - accuracy: 0.9672 - val_loss: 1.1485 - val_accuracy: 0.7631\n",
      "Epoch 16/20\n",
      "200/200 [==============================] - 48s 243ms/step - loss: 0.0635 - accuracy: 0.9803 - val_loss: 1.1776 - val_accuracy: 0.7750\n"
     ]
    },
    {
     "name": "stdout",
     "output_type": "stream",
     "text": [
      "Epoch 17/20\n",
      "200/200 [==============================] - 48s 240ms/step - loss: 0.1557 - accuracy: 0.9489 - val_loss: 1.0228 - val_accuracy: 0.7594\n",
      "Epoch 18/20\n",
      "200/200 [==============================] - 48s 241ms/step - loss: 0.0978 - accuracy: 0.9694 - val_loss: 1.2056 - val_accuracy: 0.7544\n",
      "Epoch 19/20\n",
      "200/200 [==============================] - 49s 243ms/step - loss: 0.0583 - accuracy: 0.9823 - val_loss: 1.2170 - val_accuracy: 0.7713\n",
      "Epoch 20/20\n",
      "200/200 [==============================] - 48s 242ms/step - loss: 0.0444 - accuracy: 0.9872 - val_loss: 1.3250 - val_accuracy: 0.7681\n"
     ]
    },
    {
     "name": "stderr",
     "output_type": "stream",
     "text": [
      "WARNING:absl:Found untraced functions such as gru_cell_1_layer_call_fn, gru_cell_1_layer_call_and_return_conditional_losses, restored_function_body, restored_function_body, restored_function_body while saving (showing 5 of 362). These functions will not be directly callable after loading.\n"
     ]
    },
    {
     "name": "stdout",
     "output_type": "stream",
     "text": [
      "INFO:tensorflow:Assets written to: englishGRUsentimental\\assets\n"
     ]
    },
    {
     "name": "stderr",
     "output_type": "stream",
     "text": [
      "INFO:tensorflow:Assets written to: englishGRUsentimental\\assets\n",
      "WARNING:absl:<keras.layers.recurrent.GRUCell object at 0x000001C9EBB407F0> has the same name 'GRUCell' as a built-in Keras object. Consider renaming <class 'keras.layers.recurrent.GRUCell'> to avoid naming conflicts when loading with `tf.keras.models.load_model`. If renaming is not possible, pass the object in the `custom_objects` parameter of the load function.\n"
     ]
    },
    {
     "data": {
      "image/png": "[encoded data removed]",
      "text/plain": [
       "<Figure size 432x288 with 1 Axes>"
      ]
     },
     "metadata": {
      "needs_background": "light"
     },
     "output_type": "display_data"
    },
    {
     "data": {
      "image/png": "[encoded data removed]",
      "text/plain": [
       "<Figure size 432x288 with 1 Axes>"
      ]
     },
     "metadata": {
      "needs_background": "light"
     },
     "output_type": "display_data"
    }
   ],
   "source": [
    "print(\"Target task language model fine tuning:\")\n",
    "english_GRU_model,train_history = target_task_language_model_fine_tuning(\"englishGRUNextWord\",\"gru\",total_unique_words,sequences,lables,needed_epochs=70)\n",
    "if train_history:\n",
    "    print(\"Target task language model train history:\")\n",
    "    get_loss_plot(train_history).show()\n",
    "    get_accuracy_plot(train_history).show()\n",
    "\n",
    "print(\"Target task classifier fine tuning:\")\n",
    "model_dir_name = \"englishGRUsentimental\"\n",
    "new_layers = [tf.keras.layers.Dense(64, activation='relu',name='relu'),tf.keras.layers.Dense(3,activation='softmax',name='softmax')]\n",
    "english_GRU_model,is_model_loaded = adjust_model_architecture_for_traget_task(english_GRU_model,new_layers,model_dir_name)\n",
    "if not is_model_loaded:\n",
    "    fine_tuning_history = target_task_classifier_fine_tuning(english_GRU_model,x_train,y_train,x_test,y_test,needed_epochs=20)\n",
    "    english_GRU_model.save(model_dir_name)\n",
    "    get_loss_plot(fine_tuning_history).show()\n",
    "    get_accuracy_plot(fine_tuning_history).show()"
   ]
  },
  {
   "cell_type": "code",
   "execution_count": 21,
   "id": "ee01246d",
   "metadata": {},
   "outputs": [
    {
     "name": "stdout",
     "output_type": "stream",
     "text": [
      "50/50 [==============================] - 10s 188ms/step - loss: 1.3250 - accuracy: 0.7681\n",
      "Test accuracy: 0.7681249976158142\n"
     ]
    }
   ],
   "source": [
    "score = english_GRU_model.evaluate(x_test, y_test)\n",
    "print('Test accuracy:', score[1])"
   ]
  },
  {
   "cell_type": "code",
   "execution_count": 22,
   "id": "b45c4aaf",
   "metadata": {},
   "outputs": [
    {
     "name": "stdout",
     "output_type": "stream",
     "text": [
      "Example:\n",
      "it was amazing, and arrived an hour early. You're too good to me. : positive\n"
     ]
    }
   ],
   "source": [
    "print(\"Example:\")\n",
    "prediction = english_GRU_model.predict([\"it was amazing, and arrived an hour early. You're too good to me.\"])\n",
    "sentiment = get_sentiment_analysis_prediction(list(prediction[0]))\n",
    "print(\"it was amazing, and arrived an hour early. You're too good to me. : \" +sentiment)"
   ]
  },
  {
   "cell_type": "code",
   "execution_count": 23,
   "id": "57421224",
   "metadata": {},
   "outputs": [
    {
     "name": "stdout",
     "output_type": "stream",
     "text": [
      "Example:\n",
      "and it's a really big bad thing about it : negative\n"
     ]
    }
   ],
   "source": [
    "print(\"Example:\")\n",
    "prediction = english_GRU_model.predict([\"and it's a really big bad thing about it\"])\n",
    "sentiment = get_sentiment_analysis_prediction(list(prediction[0]))\n",
    "print(\"and it's a really big bad thing about it : \" +sentiment)"
   ]
  },
  {
   "cell_type": "markdown",
   "id": "b0728c70",
   "metadata": {},
   "source": [
    "# 2.Russian language  model."
   ]
  },
  {
   "cell_type": "markdown",
   "id": "d9df2c90",
   "metadata": {},
   "source": [
    "In the next section of the project, the task is to examine whether a particular book was written by the author Mikhail Sholoshov.\n",
    "\n",
    "Ever since the end of the 1920s there have been rumours that Sholokhov was not the only, or even the main, author of Тихий Дон book. In this part of the code, we will try to get an answer.\n",
    "\n",
    "The target task language model is fine-tuning on Тихий Дон book 1 (And Quiet Flows the Don 1 - russian-language book by the author mikhail sholokhov). The test is performed on Тихий Дон book 2 (And Quiet Flows the Don 2 russian-language book by the author mikhail sholokhov). \n",
    "\n",
    "After the model training, a scatter plot will be presented with 2 clusters one for the training book and one for the test book, and it will be possible to examine how close they are.\n",
    "\n",
    "For research purposes, An experiment with 2 different intermediate layers will be performed - GRU and LSTM."
   ]
  },
  {
   "cell_type": "markdown",
   "id": "27b60427",
   "metadata": {},
   "source": [
    "# Build train and test datasets for russian tasks"
   ]
  },
  {
   "cell_type": "code",
   "execution_count": 24,
   "id": "e60b2575",
   "metadata": {},
   "outputs": [],
   "source": [
    "train_sequences,train_lables,total_unique_words,test_sequences,test_labels = build_dataset_for_predicting_the_next_word(\"And Quiet Flows the Don 1.txt\",\"russian\",\"And Quiet Flows the Don 2.txt\")"
   ]
  },
  {
   "cell_type": "markdown",
   "id": "7bf517a8",
   "metadata": {},
   "source": [
    "# Task - examine whether Тихий Дон books (1 and 2) was written only by the author Mikhail Sholoshov.\n",
    "\n",
    "# LSTM intermediate layer\n",
    "Tuned the model to predict the next word in the sequence for Russian language.\n",
    "\n",
    "language: Russian.\n",
    "\n",
    "Train text data: Тихий Дон part 1 (And Quiet Flows the Don 1 - russian-language book by the author mikhail sholokhov).\n",
    "\n",
    "Test text data: Тихий Дон part 2 (And Quiet Flows the Don 2 russian-language book by the author mikhail sholokhov).\n",
    "\n",
    "Intermediate layer: LSTM.\n",
    "\n",
    "Frozen layers during the tuning: LaBSE embedding layers.\n"
   ]
  },
  {
   "cell_type": "code",
   "execution_count": 25,
   "id": "34208dab",
   "metadata": {
    "scrolled": false
   },
   "outputs": [
    {
     "name": "stdout",
     "output_type": "stream",
     "text": [
      "Target task language model fine tuning:\n",
      "Model: \"model_4\"\n",
      "__________________________________________________________________________________________________\n",
      " Layer (type)                   Output Shape         Param #     Connected to                     \n",
      "==================================================================================================\n",
      " input_layer (InputLayer)       [(None,)]            0           []                               \n",
      "                                                                                                  \n",
      " keras_layer (KerasLayer)       {'input_mask': (Non  0           ['input_layer[0][0]']            \n",
      "                                e, 128),                                                          \n",
      "                                 'input_word_ids':                                                \n",
      "                                (None, 128),                                                      \n",
      "                                 'input_type_ids':                                                \n",
      "                                (None, 128)}                                                      \n",
      "                                                                                                  \n",
      " keras_layer_1 (KerasLayer)     {'pooled_output': (  219171840   ['keras_layer[2][0]',            \n",
      "                                None, 768),                       'keras_layer[2][1]',            \n",
      "                                 'sequence_output':               'keras_layer[2][2]']            \n",
      "                                 (None, 128, 768),                                                \n",
      "                                 'encoder_outputs':                                               \n",
      "                                 [(None, 128, 768),                                               \n",
      "                                 (None, 128, 768),                                                \n",
      "                                 (None, 128, 768),                                                \n",
      "                                 (None, 128, 768),                                                \n",
      "                                 (None, 128, 768),                                                \n",
      "                                 (None, 128, 768),                                                \n",
      "                                 (None, 128, 768),                                                \n",
      "                                 (None, 128, 768),                                                \n",
      "                                 (None, 128, 768),                                                \n",
      "                                 (None, 128, 768),                                                \n",
      "                                 (None, 128, 768),                                                \n",
      "                                 (None, 128, 768)]}                                               \n",
      "                                                                                                  \n",
      " lstm_2 (LSTM)                  (None, 768)          4721664     ['keras_layer_1[2][13]']         \n",
      "                                                                                                  \n",
      " batch_normalization_6 (BatchNo  (None, 768)         3072        ['lstm_2[0][0]']                 \n",
      " rmalization)                                                                                     \n",
      "                                                                                                  \n",
      " dropout (Dropout)              (None, 768)          0           ['batch_normalization_6[0][0]']  \n",
      "                                                                                                  \n",
      " output (Dense)                 (None, 23264)        17890016    ['dropout[0][0]']                \n",
      "                                                                                                  \n",
      "==================================================================================================\n",
      "Total params: 241,786,592\n",
      "Trainable params: 22,613,216\n",
      "Non-trainable params: 219,173,376\n",
      "__________________________________________________________________________________________________\n",
      "Epoch 1/100\n",
      "634/634 [==============================] - 138s 210ms/step - loss: 10.0644 - accuracy: 0.0015\n",
      "Epoch 2/100\n",
      "634/634 [==============================] - 133s 209ms/step - loss: 9.5920 - accuracy: 0.0144\n",
      "Epoch 3/100\n",
      "634/634 [==============================] - 132s 209ms/step - loss: 8.7153 - accuracy: 0.0352\n",
      "Epoch 4/100\n",
      "634/634 [==============================] - 133s 209ms/step - loss: 7.7634 - accuracy: 0.0552\n",
      "Epoch 5/100\n",
      "634/634 [==============================] - 133s 209ms/step - loss: 6.8514 - accuracy: 0.0885\n",
      "Epoch 6/100\n",
      "634/634 [==============================] - 133s 210ms/step - loss: 5.9109 - accuracy: 0.1466\n",
      "Epoch 7/100\n",
      "634/634 [==============================] - 133s 209ms/step - loss: 4.9622 - accuracy: 0.2301\n",
      "Epoch 8/100\n",
      "634/634 [==============================] - 132s 209ms/step - loss: 4.0482 - accuracy: 0.3366\n",
      "Epoch 9/100\n",
      "634/634 [==============================] - 133s 209ms/step - loss: 3.2290 - accuracy: 0.4327\n",
      "Epoch 10/100\n",
      "634/634 [==============================] - 132s 209ms/step - loss: 2.5662 - accuracy: 0.5022\n",
      "Epoch 11/100\n",
      "634/634 [==============================] - 133s 209ms/step - loss: 2.0770 - accuracy: 0.5589\n",
      "Epoch 12/100\n",
      "634/634 [==============================] - 133s 209ms/step - loss: 1.7255 - accuracy: 0.5993\n",
      "Epoch 13/100\n",
      "634/634 [==============================] - 133s 209ms/step - loss: 1.4797 - accuracy: 0.6345\n",
      "Epoch 14/100\n",
      "634/634 [==============================] - 133s 209ms/step - loss: 1.2871 - accuracy: 0.6675\n",
      "Epoch 15/100\n",
      "634/634 [==============================] - 132s 208ms/step - loss: 1.1388 - accuracy: 0.6946\n",
      "Epoch 16/100\n",
      "634/634 [==============================] - 132s 208ms/step - loss: 1.0361 - accuracy: 0.7174\n",
      "Epoch 17/100\n",
      "634/634 [==============================] - 133s 210ms/step - loss: 0.9524 - accuracy: 0.7307\n",
      "Epoch 18/100\n",
      "634/634 [==============================] - 133s 210ms/step - loss: 0.8876 - accuracy: 0.7408\n",
      "Epoch 19/100\n",
      "634/634 [==============================] - 133s 209ms/step - loss: 0.8216 - accuracy: 0.7595\n",
      "Epoch 20/100\n",
      "634/634 [==============================] - 133s 209ms/step - loss: 0.7717 - accuracy: 0.7719\n",
      "Epoch 21/100\n",
      "634/634 [==============================] - 132s 209ms/step - loss: 0.7338 - accuracy: 0.7816\n",
      "Epoch 22/100\n",
      "634/634 [==============================] - 132s 208ms/step - loss: 0.6954 - accuracy: 0.7941\n",
      "Epoch 23/100\n",
      "634/634 [==============================] - 132s 209ms/step - loss: 0.6556 - accuracy: 0.8032\n",
      "Epoch 24/100\n",
      "634/634 [==============================] - 132s 209ms/step - loss: 0.6310 - accuracy: 0.8096\n",
      "Epoch 25/100\n",
      "634/634 [==============================] - 133s 209ms/step - loss: 0.6030 - accuracy: 0.8179\n",
      "Epoch 26/100\n",
      "634/634 [==============================] - 133s 209ms/step - loss: 0.5836 - accuracy: 0.8243\n",
      "Epoch 27/100\n",
      "634/634 [==============================] - 133s 210ms/step - loss: 0.5565 - accuracy: 0.8291\n",
      "Epoch 28/100\n",
      "634/634 [==============================] - 133s 210ms/step - loss: 0.5336 - accuracy: 0.8345\n",
      "Epoch 29/100\n",
      "634/634 [==============================] - 133s 209ms/step - loss: 0.5139 - accuracy: 0.8394\n",
      "Epoch 30/100\n",
      "634/634 [==============================] - 132s 208ms/step - loss: 0.5002 - accuracy: 0.8468\n",
      "Epoch 31/100\n",
      "634/634 [==============================] - 132s 209ms/step - loss: 0.4839 - accuracy: 0.8516\n",
      "Epoch 32/100\n",
      "634/634 [==============================] - 132s 209ms/step - loss: 0.4687 - accuracy: 0.8561\n",
      "Epoch 33/100\n",
      "634/634 [==============================] - 132s 208ms/step - loss: 0.4586 - accuracy: 0.8601\n",
      "Epoch 34/100\n",
      "634/634 [==============================] - 133s 210ms/step - loss: 0.4381 - accuracy: 0.8655\n",
      "Epoch 35/100\n",
      "634/634 [==============================] - 133s 210ms/step - loss: 0.4252 - accuracy: 0.8695\n",
      "Epoch 36/100\n",
      "634/634 [==============================] - 133s 209ms/step - loss: 0.4309 - accuracy: 0.8682\n",
      "Epoch 37/100\n",
      "634/634 [==============================] - 133s 210ms/step - loss: 0.4093 - accuracy: 0.8740\n",
      "Epoch 38/100\n",
      "634/634 [==============================] - 132s 209ms/step - loss: 0.3937 - accuracy: 0.8788\n",
      "Epoch 39/100\n",
      "634/634 [==============================] - 132s 208ms/step - loss: 0.3908 - accuracy: 0.8804\n",
      "Epoch 40/100\n",
      "634/634 [==============================] - 132s 208ms/step - loss: 0.3776 - accuracy: 0.8827\n",
      "Epoch 41/100\n",
      "634/634 [==============================] - 132s 208ms/step - loss: 0.3732 - accuracy: 0.8867\n",
      "Epoch 42/100\n",
      "634/634 [==============================] - 132s 209ms/step - loss: 0.3620 - accuracy: 0.8906\n",
      "Epoch 43/100\n",
      "634/634 [==============================] - 132s 209ms/step - loss: 0.3547 - accuracy: 0.8928\n",
      "Epoch 44/100\n",
      "634/634 [==============================] - 132s 208ms/step - loss: 0.3539 - accuracy: 0.8924\n",
      "Epoch 45/100\n",
      "634/634 [==============================] - 133s 209ms/step - loss: 0.3478 - accuracy: 0.8939\n",
      "Epoch 46/100\n",
      "634/634 [==============================] - 132s 208ms/step - loss: 0.3368 - accuracy: 0.8968\n",
      "Epoch 47/100\n",
      "634/634 [==============================] - 132s 208ms/step - loss: 0.3297 - accuracy: 0.8993\n",
      "Epoch 48/100\n",
      "634/634 [==============================] - 132s 208ms/step - loss: 0.3267 - accuracy: 0.9011\n",
      "Epoch 49/100\n",
      "634/634 [==============================] - 132s 209ms/step - loss: 0.3191 - accuracy: 0.9029\n",
      "Epoch 50/100\n",
      "634/634 [==============================] - 133s 209ms/step - loss: 0.3104 - accuracy: 0.9065\n",
      "Epoch 51/100\n",
      "634/634 [==============================] - 132s 209ms/step - loss: 0.3152 - accuracy: 0.9047\n",
      "Epoch 52/100\n",
      "634/634 [==============================] - 132s 208ms/step - loss: 0.3028 - accuracy: 0.9086\n",
      "Epoch 53/100\n",
      "634/634 [==============================] - 132s 208ms/step - loss: 0.3005 - accuracy: 0.9106\n",
      "Epoch 54/100\n",
      "634/634 [==============================] - 132s 208ms/step - loss: 0.3018 - accuracy: 0.9090\n",
      "Epoch 55/100\n",
      "634/634 [==============================] - 132s 208ms/step - loss: 0.2958 - accuracy: 0.9098\n",
      "Epoch 56/100\n",
      "634/634 [==============================] - 133s 210ms/step - loss: 0.2944 - accuracy: 0.9113\n",
      "Epoch 57/100\n",
      "634/634 [==============================] - 133s 211ms/step - loss: 0.2872 - accuracy: 0.9128\n",
      "Epoch 58/100\n",
      "634/634 [==============================] - 135s 213ms/step - loss: 0.2826 - accuracy: 0.9140\n",
      "Epoch 59/100\n",
      "634/634 [==============================] - 135s 213ms/step - loss: 0.2813 - accuracy: 0.9141\n",
      "Epoch 60/100\n",
      "634/634 [==============================] - 135s 213ms/step - loss: 0.2764 - accuracy: 0.9161\n",
      "Epoch 61/100\n",
      "634/634 [==============================] - 135s 213ms/step - loss: 0.2668 - accuracy: 0.9192\n",
      "Epoch 62/100\n",
      "634/634 [==============================] - 134s 212ms/step - loss: 0.2771 - accuracy: 0.9170\n",
      "Epoch 63/100\n",
      "634/634 [==============================] - 134s 212ms/step - loss: 0.2627 - accuracy: 0.9211\n",
      "Epoch 64/100\n",
      "634/634 [==============================] - 134s 211ms/step - loss: 0.2662 - accuracy: 0.9191\n",
      "Epoch 65/100\n",
      "634/634 [==============================] - 133s 209ms/step - loss: 0.2660 - accuracy: 0.9208\n",
      "Epoch 66/100\n",
      "634/634 [==============================] - 133s 210ms/step - loss: 0.2576 - accuracy: 0.9227\n",
      "Epoch 67/100\n",
      "634/634 [==============================] - 133s 210ms/step - loss: 0.2541 - accuracy: 0.9245\n",
      "Epoch 68/100\n",
      "634/634 [==============================] - 132s 209ms/step - loss: 0.2551 - accuracy: 0.9236\n",
      "Epoch 69/100\n",
      "634/634 [==============================] - 132s 209ms/step - loss: 0.2531 - accuracy: 0.9235\n",
      "Epoch 70/100\n",
      "634/634 [==============================] - 132s 209ms/step - loss: 0.2517 - accuracy: 0.9236\n",
      "Epoch 71/100\n",
      "634/634 [==============================] - 133s 209ms/step - loss: 0.2518 - accuracy: 0.9264\n",
      "Epoch 72/100\n",
      "634/634 [==============================] - 132s 209ms/step - loss: 0.2429 - accuracy: 0.9278\n",
      "Epoch 73/100\n",
      "634/634 [==============================] - 132s 209ms/step - loss: 0.2457 - accuracy: 0.9266\n",
      "Epoch 74/100\n",
      "634/634 [==============================] - 132s 209ms/step - loss: 0.2365 - accuracy: 0.9298\n",
      "Epoch 75/100\n",
      "634/634 [==============================] - 132s 209ms/step - loss: 0.2409 - accuracy: 0.9274\n",
      "Epoch 76/100\n",
      "634/634 [==============================] - 133s 209ms/step - loss: 0.2316 - accuracy: 0.9313\n",
      "Epoch 77/100\n",
      "634/634 [==============================] - 135s 212ms/step - loss: 0.2351 - accuracy: 0.9292\n",
      "Epoch 78/100\n",
      "634/634 [==============================] - 137s 216ms/step - loss: 0.2353 - accuracy: 0.9299\n",
      "Epoch 79/100\n",
      "634/634 [==============================] - 140s 221ms/step - loss: 0.2263 - accuracy: 0.9320\n",
      "Epoch 80/100\n",
      "634/634 [==============================] - 136s 215ms/step - loss: 0.2316 - accuracy: 0.9288\n",
      "Epoch 81/100\n",
      "634/634 [==============================] - 136s 214ms/step - loss: 0.2317 - accuracy: 0.9290\n",
      "Epoch 82/100\n",
      "634/634 [==============================] - 140s 220ms/step - loss: 0.2290 - accuracy: 0.9327\n",
      "Epoch 83/100\n",
      "634/634 [==============================] - 139s 219ms/step - loss: 0.2297 - accuracy: 0.9303\n",
      "Epoch 84/100\n",
      "634/634 [==============================] - 137s 216ms/step - loss: 0.2217 - accuracy: 0.9319\n",
      "Epoch 85/100\n",
      "634/634 [==============================] - 149s 235ms/step - loss: 0.2176 - accuracy: 0.9338\n",
      "Epoch 86/100\n",
      "634/634 [==============================] - 143s 226ms/step - loss: 0.2164 - accuracy: 0.9344\n",
      "Epoch 87/100\n",
      "634/634 [==============================] - 138s 218ms/step - loss: 0.2161 - accuracy: 0.9350\n",
      "Epoch 88/100\n",
      "634/634 [==============================] - 136s 215ms/step - loss: 0.2141 - accuracy: 0.9361\n",
      "Epoch 89/100\n",
      "634/634 [==============================] - 134s 211ms/step - loss: 0.2218 - accuracy: 0.9338\n",
      "Epoch 90/100\n",
      "634/634 [==============================] - 132s 209ms/step - loss: 0.2080 - accuracy: 0.9367\n",
      "Epoch 91/100\n",
      "634/634 [==============================] - 133s 209ms/step - loss: 0.2086 - accuracy: 0.9376\n",
      "Epoch 92/100\n",
      "634/634 [==============================] - 132s 209ms/step - loss: 0.2082 - accuracy: 0.9390\n",
      "Epoch 93/100\n",
      "634/634 [==============================] - 132s 209ms/step - loss: 0.2057 - accuracy: 0.9386\n",
      "Epoch 94/100\n",
      "634/634 [==============================] - 132s 209ms/step - loss: 0.2089 - accuracy: 0.9384\n",
      "Epoch 95/100\n",
      "634/634 [==============================] - 132s 208ms/step - loss: 0.2082 - accuracy: 0.9382\n",
      "Epoch 96/100\n",
      "634/634 [==============================] - 133s 209ms/step - loss: 0.1997 - accuracy: 0.9385\n",
      "Epoch 97/100\n",
      "634/634 [==============================] - 133s 210ms/step - loss: 0.1955 - accuracy: 0.9402\n",
      "Epoch 98/100\n",
      "634/634 [==============================] - 132s 209ms/step - loss: 0.2045 - accuracy: 0.9381\n",
      "Epoch 99/100\n",
      "634/634 [==============================] - 132s 209ms/step - loss: 0.1988 - accuracy: 0.9400\n",
      "Epoch 100/100\n",
      "634/634 [==============================] - 132s 208ms/step - loss: 0.1970 - accuracy: 0.9416\n"
     ]
    },
    {
     "name": "stderr",
     "output_type": "stream",
     "text": [
      "WARNING:absl:Found untraced functions such as lstm_cell_2_layer_call_fn, lstm_cell_2_layer_call_and_return_conditional_losses, restored_function_body, restored_function_body, restored_function_body while saving (showing 5 of 362). These functions will not be directly callable after loading.\n"
     ]
    },
    {
     "name": "stdout",
     "output_type": "stream",
     "text": [
      "INFO:tensorflow:Assets written to: russianLSTMNextWord\\assets\n"
     ]
    },
    {
     "name": "stderr",
     "output_type": "stream",
     "text": [
      "INFO:tensorflow:Assets written to: russianLSTMNextWord\\assets\n",
      "WARNING:absl:<keras.layers.recurrent.LSTMCell object at 0x000001CA0DE7BC40> has the same name 'LSTMCell' as a built-in Keras object. Consider renaming <class 'keras.layers.recurrent.LSTMCell'> to avoid naming conflicts when loading with `tf.keras.models.load_model`. If renaming is not possible, pass the object in the `custom_objects` parameter of the load function.\n"
     ]
    },
    {
     "name": "stdout",
     "output_type": "stream",
     "text": [
      "Target task language model train history:\n"
     ]
    },
    {
     "data": {
      "image/png": "[encoded data removed]",
      "text/plain": [
       "<Figure size 432x288 with 1 Axes>"
      ]
     },
     "metadata": {
      "needs_background": "light"
     },
     "output_type": "display_data"
    },
    {
     "data": {
      "image/png": "[encoded data removed]",
      "text/plain": [
       "<Figure size 432x288 with 1 Axes>"
      ]
     },
     "metadata": {
      "needs_background": "light"
     },
     "output_type": "display_data"
    }
   ],
   "source": [
    "print(\"Target task language model fine tuning:\")\n",
    "russian_lstm_model,train_history = target_task_language_model_fine_tuning(\"russianLSTMNextWord\",\"lstm\",total_unique_words,train_sequences,train_lables,needed_epochs=100)\n",
    "if train_history:\n",
    "    print(\"Target task language model train history:\")\n",
    "    get_loss_plot(train_history).show()\n",
    "    get_accuracy_plot(train_history).show()"
   ]
  },
  {
   "cell_type": "code",
   "execution_count": 26,
   "id": "9b11c148",
   "metadata": {},
   "outputs": [
    {
     "data": {
      "image/png": "[encoded data removed]",
      "text/plain": [
       "<Figure size 432x288 with 1 Axes>"
      ]
     },
     "metadata": {
      "needs_background": "light"
     },
     "output_type": "display_data"
    }
   ],
   "source": [
    "train_predictions = russian_lstm_model.predict(train_sequences)\n",
    "test_predictions = russian_lstm_model.predict(test_sequences)\n",
    "get_scatter_plot(train_predictions,test_predictions).show()"
   ]
  },
  {
   "cell_type": "markdown",
   "id": "ec05b836",
   "metadata": {},
   "source": [
    "# Task - examine whether Тихий Дон books (1 and 2) was written only by the author Mikhail Sholoshov.\n",
    "\n",
    "# GRU intermediate layer\n",
    "Tuned the model to predict the next word in the sequence for Russian language.\n",
    "\n",
    "language: Russian.\n",
    "\n",
    "Train text data: Тихий Дон part 1 (And Quiet Flows the Don 1 - russian-language book by the author mikhail sholokhov).\n",
    "\n",
    "Test text data: Тихий Дон part 2 (And Quiet Flows the Don 2 russian-language book by the author mikhail sholokhov).\n",
    "\n",
    "Intermediate layer: GRU.\n",
    "\n",
    "Frozen layers during the tuning: LaBSE embedding layers.\n"
   ]
  },
  {
   "cell_type": "code",
   "execution_count": 27,
   "id": "f6ac1bc8",
   "metadata": {
    "scrolled": false
   },
   "outputs": [
    {
     "name": "stdout",
     "output_type": "stream",
     "text": [
      "Target task language model fine tuning:\n",
      "Model: \"model_5\"\n",
      "__________________________________________________________________________________________________\n",
      " Layer (type)                   Output Shape         Param #     Connected to                     \n",
      "==================================================================================================\n",
      " input_layer (InputLayer)       [(None,)]            0           []                               \n",
      "                                                                                                  \n",
      " keras_layer (KerasLayer)       {'input_mask': (Non  0           ['input_layer[0][0]']            \n",
      "                                e, 128),                                                          \n",
      "                                 'input_word_ids':                                                \n",
      "                                (None, 128),                                                      \n",
      "                                 'input_type_ids':                                                \n",
      "                                (None, 128)}                                                      \n",
      "                                                                                                  \n",
      " keras_layer_1 (KerasLayer)     {'pooled_output': (  219171840   ['keras_layer[3][0]',            \n",
      "                                None, 768),                       'keras_layer[3][1]',            \n",
      "                                 'sequence_output':               'keras_layer[3][2]']            \n",
      "                                 (None, 128, 768),                                                \n",
      "                                 'encoder_outputs':                                               \n",
      "                                 [(None, 128, 768),                                               \n",
      "                                 (None, 128, 768),                                                \n",
      "                                 (None, 128, 768),                                                \n",
      "                                 (None, 128, 768),                                                \n",
      "                                 (None, 128, 768),                                                \n",
      "                                 (None, 128, 768),                                                \n",
      "                                 (None, 128, 768),                                                \n",
      "                                 (None, 128, 768),                                                \n",
      "                                 (None, 128, 768),                                                \n",
      "                                 (None, 128, 768),                                                \n",
      "                                 (None, 128, 768),                                                \n",
      "                                 (None, 128, 768)]}                                               \n",
      "                                                                                                  \n",
      " gru_3 (GRU)                    (None, 768)          3543552     ['keras_layer_1[3][13]']         \n",
      "                                                                                                  \n",
      " batch_normalization_7 (BatchNo  (None, 768)         3072        ['gru_3[0][0]']                  \n",
      " rmalization)                                                                                     \n",
      "                                                                                                  \n",
      " dropout (Dropout)              (None, 768)          0           ['batch_normalization_7[0][0]']  \n",
      "                                                                                                  \n",
      " output (Dense)                 (None, 23264)        17890016    ['dropout[0][0]']                \n",
      "                                                                                                  \n",
      "==================================================================================================\n",
      "Total params: 240,608,480\n",
      "Trainable params: 21,435,104\n",
      "Non-trainable params: 219,173,376\n",
      "__________________________________________________________________________________________________\n",
      "Epoch 1/70\n",
      "634/634 [==============================] - 132s 201ms/step - loss: 10.0680 - accuracy: 0.0018\n",
      "Epoch 2/70\n",
      "634/634 [==============================] - 127s 201ms/step - loss: 9.5822 - accuracy: 0.0144\n",
      "Epoch 3/70\n",
      "634/634 [==============================] - 127s 200ms/step - loss: 8.6929 - accuracy: 0.0335\n",
      "Epoch 4/70\n",
      "634/634 [==============================] - 127s 201ms/step - loss: 7.7410 - accuracy: 0.0561\n",
      "Epoch 5/70\n",
      "634/634 [==============================] - 127s 201ms/step - loss: 6.8709 - accuracy: 0.0827\n",
      "Epoch 6/70\n",
      "634/634 [==============================] - 127s 201ms/step - loss: 5.9942 - accuracy: 0.1297\n",
      "Epoch 7/70\n",
      "634/634 [==============================] - 127s 201ms/step - loss: 5.1332 - accuracy: 0.2001\n",
      "Epoch 8/70\n",
      "634/634 [==============================] - 127s 200ms/step - loss: 4.3048 - accuracy: 0.2810\n",
      "Epoch 9/70\n",
      "634/634 [==============================] - 126s 199ms/step - loss: 3.5763 - accuracy: 0.3641\n",
      "Epoch 10/70\n",
      "634/634 [==============================] - 127s 200ms/step - loss: 2.9572 - accuracy: 0.4371\n",
      "Epoch 11/70\n",
      "634/634 [==============================] - 127s 200ms/step - loss: 2.4849 - accuracy: 0.4809\n",
      "Epoch 12/70\n",
      "634/634 [==============================] - 127s 200ms/step - loss: 2.1168 - accuracy: 0.5249\n",
      "Epoch 13/70\n",
      "634/634 [==============================] - 127s 200ms/step - loss: 1.8455 - accuracy: 0.5636\n",
      "Epoch 14/70\n",
      "634/634 [==============================] - 127s 200ms/step - loss: 1.6363 - accuracy: 0.5965\n",
      "Epoch 15/70\n",
      "634/634 [==============================] - 127s 201ms/step - loss: 1.4594 - accuracy: 0.6255\n",
      "Epoch 16/70\n",
      "634/634 [==============================] - 130s 204ms/step - loss: 1.3228 - accuracy: 0.6513\n",
      "Epoch 17/70\n",
      "634/634 [==============================] - 130s 206ms/step - loss: 1.2003 - accuracy: 0.6780\n",
      "Epoch 18/70\n",
      "634/634 [==============================] - 127s 200ms/step - loss: 1.1011 - accuracy: 0.7009\n",
      "Epoch 19/70\n",
      "634/634 [==============================] - 131s 207ms/step - loss: 1.0068 - accuracy: 0.7242\n",
      "Epoch 20/70\n",
      "634/634 [==============================] - 140s 221ms/step - loss: 0.9248 - accuracy: 0.7441\n",
      "Epoch 21/70\n",
      "634/634 [==============================] - 136s 214ms/step - loss: 0.8527 - accuracy: 0.7617\n",
      "Epoch 22/70\n",
      "634/634 [==============================] - 129s 203ms/step - loss: 0.7905 - accuracy: 0.7756\n",
      "Epoch 23/70\n",
      "634/634 [==============================] - 128s 202ms/step - loss: 0.7335 - accuracy: 0.7910\n",
      "Epoch 24/70\n",
      "634/634 [==============================] - 129s 203ms/step - loss: 0.6892 - accuracy: 0.8045\n",
      "Epoch 25/70\n",
      "634/634 [==============================] - 130s 206ms/step - loss: 0.6503 - accuracy: 0.8130\n",
      "Epoch 26/70\n",
      "634/634 [==============================] - 131s 206ms/step - loss: 0.6111 - accuracy: 0.8249\n",
      "Epoch 27/70\n",
      "634/634 [==============================] - 131s 207ms/step - loss: 0.5725 - accuracy: 0.8353\n",
      "Epoch 28/70\n",
      "634/634 [==============================] - 130s 205ms/step - loss: 0.5397 - accuracy: 0.8452\n",
      "Epoch 29/70\n",
      "634/634 [==============================] - 133s 210ms/step - loss: 0.5171 - accuracy: 0.8516\n",
      "Epoch 30/70\n",
      "634/634 [==============================] - 131s 207ms/step - loss: 0.4830 - accuracy: 0.8609\n",
      "Epoch 31/70\n",
      "634/634 [==============================] - 128s 202ms/step - loss: 0.4610 - accuracy: 0.8679\n",
      "Epoch 32/70\n",
      "634/634 [==============================] - 130s 205ms/step - loss: 0.4349 - accuracy: 0.8751\n",
      "Epoch 33/70\n",
      "634/634 [==============================] - 129s 203ms/step - loss: 0.4204 - accuracy: 0.8808\n",
      "Epoch 34/70\n",
      "634/634 [==============================] - 135s 212ms/step - loss: 0.3978 - accuracy: 0.8874\n",
      "Epoch 35/70\n",
      "634/634 [==============================] - 136s 215ms/step - loss: 0.3715 - accuracy: 0.8951\n",
      "Epoch 36/70\n",
      "634/634 [==============================] - 133s 210ms/step - loss: 0.3579 - accuracy: 0.9000\n",
      "Epoch 37/70\n",
      "634/634 [==============================] - 132s 208ms/step - loss: 0.3439 - accuracy: 0.9048\n",
      "Epoch 38/70\n",
      "634/634 [==============================] - 127s 200ms/step - loss: 0.3267 - accuracy: 0.9091\n",
      "Epoch 39/70\n"
     ]
    },
    {
     "name": "stdout",
     "output_type": "stream",
     "text": [
      "634/634 [==============================] - 127s 201ms/step - loss: 0.3156 - accuracy: 0.9147\n",
      "Epoch 40/70\n",
      "634/634 [==============================] - 128s 202ms/step - loss: 0.3034 - accuracy: 0.9183\n",
      "Epoch 41/70\n",
      "634/634 [==============================] - 136s 214ms/step - loss: 0.2891 - accuracy: 0.9213\n",
      "Epoch 42/70\n",
      "634/634 [==============================] - 127s 201ms/step - loss: 0.2860 - accuracy: 0.9230\n",
      "Epoch 43/70\n",
      "634/634 [==============================] - 132s 208ms/step - loss: 0.2716 - accuracy: 0.9261\n",
      "Epoch 44/70\n",
      "634/634 [==============================] - 128s 201ms/step - loss: 0.2592 - accuracy: 0.9305\n",
      "Epoch 45/70\n",
      "634/634 [==============================] - 135s 212ms/step - loss: 0.2629 - accuracy: 0.9296\n",
      "Epoch 46/70\n",
      "634/634 [==============================] - 134s 211ms/step - loss: 0.2408 - accuracy: 0.9367\n",
      "Epoch 47/70\n",
      "634/634 [==============================] - 129s 203ms/step - loss: 0.2448 - accuracy: 0.9343\n",
      "Epoch 48/70\n",
      "634/634 [==============================] - 128s 202ms/step - loss: 0.2379 - accuracy: 0.9359\n",
      "Epoch 49/70\n",
      "634/634 [==============================] - 127s 200ms/step - loss: 0.2332 - accuracy: 0.9385\n",
      "Epoch 50/70\n",
      "634/634 [==============================] - 127s 200ms/step - loss: 0.2299 - accuracy: 0.9398\n",
      "Epoch 51/70\n",
      "634/634 [==============================] - 127s 200ms/step - loss: 0.2188 - accuracy: 0.9415\n",
      "Epoch 52/70\n",
      "634/634 [==============================] - 128s 202ms/step - loss: 0.2151 - accuracy: 0.9434\n",
      "Epoch 53/70\n",
      "634/634 [==============================] - 132s 209ms/step - loss: 0.2188 - accuracy: 0.9428\n",
      "Epoch 54/70\n",
      "634/634 [==============================] - 133s 210ms/step - loss: 0.2058 - accuracy: 0.9470\n",
      "Epoch 55/70\n",
      "634/634 [==============================] - 133s 210ms/step - loss: 0.2108 - accuracy: 0.9449\n",
      "Epoch 56/70\n",
      "634/634 [==============================] - 127s 201ms/step - loss: 0.1996 - accuracy: 0.9479\n",
      "Epoch 57/70\n",
      "634/634 [==============================] - 127s 200ms/step - loss: 0.2028 - accuracy: 0.9471\n",
      "Epoch 58/70\n",
      "634/634 [==============================] - 127s 200ms/step - loss: 0.1952 - accuracy: 0.9482\n",
      "Epoch 59/70\n",
      "634/634 [==============================] - 127s 201ms/step - loss: 0.1996 - accuracy: 0.9481\n",
      "Epoch 60/70\n",
      "634/634 [==============================] - 127s 200ms/step - loss: 0.1929 - accuracy: 0.9497\n",
      "Epoch 61/70\n",
      "634/634 [==============================] - 126s 199ms/step - loss: 0.1914 - accuracy: 0.9504\n",
      "Epoch 62/70\n",
      "634/634 [==============================] - 127s 200ms/step - loss: 0.1911 - accuracy: 0.9499\n",
      "Epoch 63/70\n",
      "634/634 [==============================] - 127s 201ms/step - loss: 0.1927 - accuracy: 0.9496\n",
      "Epoch 64/70\n",
      "634/634 [==============================] - 127s 200ms/step - loss: 0.1914 - accuracy: 0.9497\n",
      "Epoch 65/70\n",
      "634/634 [==============================] - 127s 200ms/step - loss: 0.1757 - accuracy: 0.9542\n",
      "Epoch 66/70\n",
      "634/634 [==============================] - 127s 201ms/step - loss: 0.1846 - accuracy: 0.9520\n",
      "Epoch 67/70\n",
      "634/634 [==============================] - 127s 201ms/step - loss: 0.1820 - accuracy: 0.9527\n",
      "Epoch 68/70\n",
      "634/634 [==============================] - 127s 200ms/step - loss: 0.1810 - accuracy: 0.9522\n",
      "Epoch 69/70\n",
      "634/634 [==============================] - 128s 202ms/step - loss: 0.1831 - accuracy: 0.9522\n",
      "Epoch 70/70\n",
      "634/634 [==============================] - 128s 202ms/step - loss: 0.1785 - accuracy: 0.9527\n"
     ]
    },
    {
     "name": "stderr",
     "output_type": "stream",
     "text": [
      "WARNING:absl:Found untraced functions such as gru_cell_3_layer_call_fn, gru_cell_3_layer_call_and_return_conditional_losses, restored_function_body, restored_function_body, restored_function_body while saving (showing 5 of 362). These functions will not be directly callable after loading.\n"
     ]
    },
    {
     "name": "stdout",
     "output_type": "stream",
     "text": [
      "INFO:tensorflow:Assets written to: russianGRUNextWord\\assets\n"
     ]
    },
    {
     "name": "stderr",
     "output_type": "stream",
     "text": [
      "INFO:tensorflow:Assets written to: russianGRUNextWord\\assets\n",
      "WARNING:absl:<keras.layers.recurrent.GRUCell object at 0x000001C9AABD1460> has the same name 'GRUCell' as a built-in Keras object. Consider renaming <class 'keras.layers.recurrent.GRUCell'> to avoid naming conflicts when loading with `tf.keras.models.load_model`. If renaming is not possible, pass the object in the `custom_objects` parameter of the load function.\n"
     ]
    },
    {
     "name": "stdout",
     "output_type": "stream",
     "text": [
      "Target task language model train history:\n"
     ]
    },
    {
     "data": {
      "image/png": "[encoded data removed]",
      "text/plain": [
       "<Figure size 432x288 with 1 Axes>"
      ]
     },
     "metadata": {
      "needs_background": "light"
     },
     "output_type": "display_data"
    },
    {
     "data": {
      "image/png": "[encoded data removed]",
      "text/plain": [
       "<Figure size 432x288 with 1 Axes>"
      ]
     },
     "metadata": {
      "needs_background": "light"
     },
     "output_type": "display_data"
    },
    {
     "data": {
      "image/png": "[encoded data removed]",
      "text/plain": [
       "<Figure size 432x288 with 1 Axes>"
      ]
     },
     "metadata": {
      "needs_background": "light"
     },
     "output_type": "display_data"
    }
   ],
   "source": [
    "print(\"Target task language model fine tuning:\")\n",
    "russian_gru_model,train_history = target_task_language_model_fine_tuning(\"russianGRUNextWord\",\"gru\",total_unique_words,train_sequences,train_lables,needed_epochs=70)\n",
    "if train_history:\n",
    "    print(\"Target task language model train history:\")\n",
    "    get_loss_plot(train_history).show()\n",
    "    get_accuracy_plot(train_history).show()\n",
    "\n",
    "train_predictions = russian_gru_model.predict(train_sequences)\n",
    "test_predictions = russian_gru_model.predict(test_sequences)\n",
    "get_scatter_plot(train_predictions,test_predictions).show()"
   ]
  },
  {
   "cell_type": "code",
   "execution_count": null,
   "id": "749fce09",
   "metadata": {},
   "outputs": [],
   "source": []
  }
 ],
 "metadata": {
  "kernelspec": {
   "display_name": "Python 3 (ipykernel)",
   "language": "python",
   "name": "python3"
  },
  "language_info": {
   "codemirror_mode": {
    "name": "ipython",
    "version": 3
   },
   "file_extension": ".py",
   "mimetype": "text/x-python",
   "name": "python",
   "nbconvert_exporter": "python",
   "pygments_lexer": "ipython3",
   "version": "3.9.7"
  }
 },
 "nbformat": 4,
 "nbformat_minor": 5
}
